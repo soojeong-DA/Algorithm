{
 "cells": [
  {
   "cell_type": "markdown",
   "metadata": {},
   "source": [
    "###### 규칙/패턴을 찾아 공식화하는 것이 간결하고 효율성 좋은 코드 작성의 지름길"
   ]
  },
  {
   "cell_type": "markdown",
   "metadata": {},
   "source": [
    "# 거스름돈\n",
    "- 거스름돈으로 사용할 500원, 100원, 50원, 10원짜리 동전이 무한히 존재한다고 가정\n",
    "- 손님에서 거슬러 줘야할 돈이 N원일 때 거슬러 줘야 할 동전의 최소 개수를 구해라 (돈 N은 항상 10의 배수)"
   ]
  },
  {
   "cell_type": "code",
   "execution_count": 5,
   "metadata": {
    "ExecuteTime": {
     "end_time": "2021-05-16T06:43:10.615447Z",
     "start_time": "2021-05-16T06:43:10.598497Z"
    }
   },
   "outputs": [],
   "source": [
    "# 큰 단위 부터 최대로 거슬러 주기\n",
    "def solution(N):\n",
    "    coin_cnt = 0\n",
    "    for coin in [500, 100, 50, 10]:\n",
    "        if N > 0:\n",
    "            coin_cnt += N // coin\n",
    "            N = N % coin\n",
    "    return coin_cnt"
   ]
  },
  {
   "cell_type": "code",
   "execution_count": 6,
   "metadata": {
    "ExecuteTime": {
     "end_time": "2021-05-16T06:43:11.058873Z",
     "start_time": "2021-05-16T06:43:11.051922Z"
    }
   },
   "outputs": [
    {
     "data": {
      "text/plain": [
       "6"
      ]
     },
     "execution_count": 6,
     "metadata": {},
     "output_type": "execute_result"
    }
   ],
   "source": [
    "solution(1260)"
   ]
  },
  {
   "cell_type": "markdown",
   "metadata": {},
   "source": [
    "# 큰수의 법칙\n",
    "- 다양한 수로 이루어진 배열이 있을 때 주어진 수들을 M번  더하여 가장 큰 수를 만들어라\n",
    "- 단, 배열의 특정한 인덱스(번호)에 해당하는 수가 연속해서 K번을 초과하여 더해질 수는 없음"
   ]
  },
  {
   "cell_type": "code",
   "execution_count": 11,
   "metadata": {
    "ExecuteTime": {
     "end_time": "2021-05-16T07:37:42.030630Z",
     "start_time": "2021-05-16T07:37:42.014671Z"
    }
   },
   "outputs": [
    {
     "name": "stdout",
     "output_type": "stream",
     "text": [
      "46\n"
     ]
    }
   ],
   "source": [
    "# 가장 큰 첫번째 값(k번 더하기), 두번째 값(한번 더하기)만 필요\n",
    "m, k = 8, 3     #map(int, input().split())\n",
    "data = [2,4,5,4,6]    #list(map(int, input().split()))\n",
    "\n",
    "data.sort()\n",
    "max_value = data[-1]\n",
    "next_value = data[-2]\n",
    "\n",
    "# 가장 큰 수가 더해지는 횟수\n",
    "count = (m // (k+1)) * k\n",
    "count += m % (k+1)    # 나누어 떨어지지 않는 경우 추가\n",
    "\n",
    "# 모두 더해서 결과값 만들기\n",
    "result = 0\n",
    "result += max_value * count\n",
    "result += next_value * (m - count)\n",
    "\n",
    "print(result)"
   ]
  },
  {
   "cell_type": "markdown",
   "metadata": {},
   "source": [
    "# 숫자카드 게임\n",
    "- 숫자가 쓰인 카드가 N * M 형태로 놓여있다.\n",
    "- 각 행에서 가장 작은 숫자 카드를 뽑을 수 있다고 할 때, 최종적으로 가장 높은 숫자의 카드를 뽑아햐 한다."
   ]
  },
  {
   "cell_type": "code",
   "execution_count": 21,
   "metadata": {
    "ExecuteTime": {
     "end_time": "2021-05-16T08:16:07.656563Z",
     "start_time": "2021-05-16T08:16:07.645593Z"
    }
   },
   "outputs": [],
   "source": [
    "# 각 행별 최솟값 비교하며, 가장 큰 값 뽑기\n",
    "def solution(n, m, data):\n",
    "    min_value = min(data[0])\n",
    "    for i in range(1, len(data)):\n",
    "        if min_value < min(data[i]):\n",
    "            min_value = min(data[i])\n",
    "    return min_value"
   ]
  },
  {
   "cell_type": "code",
   "execution_count": 22,
   "metadata": {
    "ExecuteTime": {
     "end_time": "2021-05-16T08:16:08.021844Z",
     "start_time": "2021-05-16T08:16:08.014861Z"
    }
   },
   "outputs": [
    {
     "data": {
      "text/plain": [
       "2"
      ]
     },
     "execution_count": 22,
     "metadata": {},
     "output_type": "execute_result"
    }
   ],
   "source": [
    "solution(3,3, [[3,1,2], [4,1,4], [2,2,2]])"
   ]
  },
  {
   "cell_type": "code",
   "execution_count": 24,
   "metadata": {
    "ExecuteTime": {
     "end_time": "2021-05-16T08:16:36.265578Z",
     "start_time": "2021-05-16T08:16:36.249654Z"
    }
   },
   "outputs": [
    {
     "data": {
      "text/plain": [
       "3"
      ]
     },
     "execution_count": 24,
     "metadata": {},
     "output_type": "execute_result"
    }
   ],
   "source": [
    "solution(2,4, [[7,3,1,8], [3,3,3,4]])"
   ]
  },
  {
   "cell_type": "markdown",
   "metadata": {},
   "source": [
    "# 1이 될 때까지\n",
    "- 어떤한 수 N이 1이 될 때까지 1 or 2번 과정을 수행하는 최소 횟수를 구해라  (N, K 주어짐)\n",
    "    - 1. N에서 1을 뺀다.\n",
    "    - 2. N을 K로 나눈다."
   ]
  },
  {
   "cell_type": "code",
   "execution_count": 25,
   "metadata": {
    "ExecuteTime": {
     "end_time": "2021-05-16T08:34:33.268291Z",
     "start_time": "2021-05-16T08:34:33.253365Z"
    }
   },
   "outputs": [],
   "source": [
    "def solution(n, k):\n",
    "    result = n % k\n",
    "    while n >= k:\n",
    "        n = n // k\n",
    "        result += 1\n",
    "    return result"
   ]
  },
  {
   "cell_type": "code",
   "execution_count": 26,
   "metadata": {
    "ExecuteTime": {
     "end_time": "2021-05-16T08:34:44.166242Z",
     "start_time": "2021-05-16T08:34:44.159265Z"
    }
   },
   "outputs": [
    {
     "data": {
      "text/plain": [
       "2"
      ]
     },
     "execution_count": 26,
     "metadata": {},
     "output_type": "execute_result"
    }
   ],
   "source": [
    "solution(25,5)"
   ]
  },
  {
   "cell_type": "code",
   "execution_count": 27,
   "metadata": {
    "ExecuteTime": {
     "end_time": "2021-05-16T08:34:53.328813Z",
     "start_time": "2021-05-16T08:34:53.318840Z"
    }
   },
   "outputs": [
    {
     "data": {
      "text/plain": [
       "3"
      ]
     },
     "execution_count": 27,
     "metadata": {},
     "output_type": "execute_result"
    }
   ],
   "source": [
    "solution(17,4)"
   ]
  },
  {
   "cell_type": "code",
   "execution_count": 29,
   "metadata": {
    "ExecuteTime": {
     "end_time": "2021-05-16T08:35:05.943695Z",
     "start_time": "2021-05-16T08:35:05.927773Z"
    }
   },
   "outputs": [
    {
     "data": {
      "text/plain": [
       "4"
      ]
     },
     "execution_count": 29,
     "metadata": {},
     "output_type": "execute_result"
    }
   ],
   "source": [
    "solution(20,3)"
   ]
  },
  {
   "cell_type": "code",
   "execution_count": null,
   "metadata": {},
   "outputs": [],
   "source": []
  }
 ],
 "metadata": {
  "kernelspec": {
   "display_name": "Python 3",
   "language": "python",
   "name": "python3"
  },
  "language_info": {
   "codemirror_mode": {
    "name": "ipython",
    "version": 3
   },
   "file_extension": ".py",
   "mimetype": "text/x-python",
   "name": "python",
   "nbconvert_exporter": "python",
   "pygments_lexer": "ipython3",
   "version": "3.8.3"
  },
  "toc": {
   "base_numbering": 1,
   "nav_menu": {},
   "number_sections": true,
   "sideBar": true,
   "skip_h1_title": false,
   "title_cell": "Table of Contents",
   "title_sidebar": "Contents",
   "toc_cell": false,
   "toc_position": {},
   "toc_section_display": true,
   "toc_window_display": false
  }
 },
 "nbformat": 4,
 "nbformat_minor": 4
}
