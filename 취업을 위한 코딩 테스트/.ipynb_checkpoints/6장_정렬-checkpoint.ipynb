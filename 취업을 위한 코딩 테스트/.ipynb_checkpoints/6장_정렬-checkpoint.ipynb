{
 "cells": [
  {
   "cell_type": "markdown",
   "metadata": {},
   "source": [
    "# 두 배열의 원소 교체"
   ]
  },
  {
   "cell_type": "code",
   "execution_count": 12,
   "metadata": {
    "ExecuteTime": {
     "end_time": "2021-05-17T15:11:25.635424Z",
     "start_time": "2021-05-17T15:11:25.615482Z"
    }
   },
   "outputs": [],
   "source": [
    "def solution(a, b, n, k):\n",
    "    a.sort()\n",
    "    b.sort(reverse=True)\n",
    "    for i in range(k):\n",
    "        if a[i] < b[i]:\n",
    "            a[i] = b[i]\n",
    "        else:\n",
    "            break   # 아닌경우 바로 종료 후 리턴\n",
    "    return sum(a)"
   ]
  },
  {
   "cell_type": "code",
   "execution_count": 13,
   "metadata": {
    "ExecuteTime": {
     "end_time": "2021-05-17T15:11:25.848211Z",
     "start_time": "2021-05-17T15:11:25.838238Z"
    }
   },
   "outputs": [
    {
     "data": {
      "text/plain": [
       "26"
      ]
     },
     "execution_count": 13,
     "metadata": {},
     "output_type": "execute_result"
    }
   ],
   "source": [
    "a = [1,2,5,4,3]\n",
    "b = [5,5,6,6,5]\n",
    "n = 5\n",
    "k = 3\n",
    "solution(a,b,n,k)"
   ]
  },
  {
   "cell_type": "code",
   "execution_count": null,
   "metadata": {},
   "outputs": [],
   "source": []
  }
 ],
 "metadata": {
  "kernelspec": {
   "display_name": "Python 3",
   "language": "python",
   "name": "python3"
  },
  "language_info": {
   "codemirror_mode": {
    "name": "ipython",
    "version": 3
   },
   "file_extension": ".py",
   "mimetype": "text/x-python",
   "name": "python",
   "nbconvert_exporter": "python",
   "pygments_lexer": "ipython3",
   "version": "3.8.3"
  },
  "toc": {
   "base_numbering": 1,
   "nav_menu": {},
   "number_sections": true,
   "sideBar": true,
   "skip_h1_title": false,
   "title_cell": "Table of Contents",
   "title_sidebar": "Contents",
   "toc_cell": false,
   "toc_position": {},
   "toc_section_display": true,
   "toc_window_display": false
  }
 },
 "nbformat": 4,
 "nbformat_minor": 4
}
