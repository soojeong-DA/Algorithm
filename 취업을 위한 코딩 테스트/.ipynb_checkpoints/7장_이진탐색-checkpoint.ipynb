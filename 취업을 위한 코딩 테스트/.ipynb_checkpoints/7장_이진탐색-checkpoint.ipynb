{
 "cells": [
  {
   "cell_type": "markdown",
   "metadata": {},
   "source": [
    "# 이진 탐색 알고리즘\n",
    "- start, end로 탐색 범위 지정 -> mid = (start+end)//2 -> (start <= end) 때까지 mid에 있는 값과 target 값 비교 -> 찾으면 return, target값이 더 작으면 end = mid - 1, 더 크면 start = mid + 1"
   ]
  },
  {
   "cell_type": "code",
   "execution_count": 1,
   "metadata": {
    "ExecuteTime": {
     "end_time": "2021-05-18T05:47:57.857875Z",
     "start_time": "2021-05-18T05:47:57.842915Z"
    }
   },
   "outputs": [],
   "source": [
    "def binary_search(array, target, start, end):\n",
    "    while start <= end:\n",
    "        mid = (start+end) // 2\n",
    "        if array[mid] == target:\n",
    "            return mid\n",
    "        elif array[mid] > target:\n",
    "            end = mid - 1\n",
    "        elif array[mid] < target:\n",
    "            start = mid + 1\n",
    "    return None"
   ]
  },
  {
   "cell_type": "markdown",
   "metadata": {},
   "source": [
    "# 부품 찾기"
   ]
  },
  {
   "cell_type": "code",
   "execution_count": 2,
   "metadata": {
    "ExecuteTime": {
     "end_time": "2021-05-18T06:11:37.981206Z",
     "start_time": "2021-05-18T06:11:37.973206Z"
    }
   },
   "outputs": [],
   "source": [
    "# in 사용\n",
    "def solution(products, find_list):\n",
    "    result = []\n",
    "    for p in find_list:\n",
    "        if p in products:\n",
    "            result.append('Yes')\n",
    "        else:\n",
    "            result.append('No')\n",
    "    return result"
   ]
  },
  {
   "cell_type": "code",
   "execution_count": 5,
   "metadata": {
    "ExecuteTime": {
     "end_time": "2021-05-18T06:35:02.224124Z",
     "start_time": "2021-05-18T06:35:02.208170Z"
    }
   },
   "outputs": [],
   "source": [
    "# 이진 탐색 사용\n",
    "def solution(array, target, start, end):\n",
    "    mid = (start + end) // 2\n",
    "    while start <= end:\n",
    "        if array[mid] == target:\n",
    "            return mid\n",
    "        elif array[mid] > target:\n",
    "            end = mid - 1\n",
    "        else:\n",
    "            start = mid + 1\n",
    "    return None\n",
    "\n",
    "# for i in x:   # 찾을 부품\n",
    "#     result = solution(array, i, 0, n - 1)\n",
    "#     if result != None:\n",
    "#         print('Yes')\n",
    "#     else:\n",
    "#         print('No')"
   ]
  },
  {
   "cell_type": "markdown",
   "metadata": {},
   "source": [
    "# 떡볶이 떡 만들기"
   ]
  },
  {
   "cell_type": "code",
   "execution_count": 14,
   "metadata": {
    "ExecuteTime": {
     "end_time": "2021-05-18T07:01:33.318914Z",
     "start_time": "2021-05-18T07:01:33.299966Z"
    }
   },
   "outputs": [],
   "source": [
    "def solution(array, target, start, end):   # start, end value(index아님)\n",
    "    array.sort()\n",
    "    result = 0\n",
    "    while start <= end:\n",
    "        total = 0\n",
    "        mid = (start+end) // 2   # mid_value\n",
    "        # mid로 잘랐을 때 총 길이 계산\n",
    "        for x in array:\n",
    "            if x > mid:\n",
    "                total += x - mid\n",
    "        # 총길이에 따른 처리\n",
    "        if total < target:\n",
    "            end = mid - 1\n",
    "        else:\n",
    "            result = mid    # 최대한 덜 자르기 == target값과 딱 맞아 떨어지지 않을 때도 있음\n",
    "            start = mid + 1\n",
    "    return result"
   ]
  },
  {
   "cell_type": "code",
   "execution_count": 15,
   "metadata": {
    "ExecuteTime": {
     "end_time": "2021-05-18T07:01:34.100063Z",
     "start_time": "2021-05-18T07:01:34.081110Z"
    }
   },
   "outputs": [
    {
     "data": {
      "text/plain": [
       "15"
      ]
     },
     "execution_count": 15,
     "metadata": {},
     "output_type": "execute_result"
    }
   ],
   "source": [
    "solution([19,15,10,17], 6, 0, 19)"
   ]
  },
  {
   "cell_type": "code",
   "execution_count": null,
   "metadata": {},
   "outputs": [],
   "source": []
  }
 ],
 "metadata": {
  "kernelspec": {
   "display_name": "Python 3",
   "language": "python",
   "name": "python3"
  },
  "language_info": {
   "codemirror_mode": {
    "name": "ipython",
    "version": 3
   },
   "file_extension": ".py",
   "mimetype": "text/x-python",
   "name": "python",
   "nbconvert_exporter": "python",
   "pygments_lexer": "ipython3",
   "version": "3.8.3"
  },
  "toc": {
   "base_numbering": 1,
   "nav_menu": {},
   "number_sections": true,
   "sideBar": true,
   "skip_h1_title": false,
   "title_cell": "Table of Contents",
   "title_sidebar": "Contents",
   "toc_cell": false,
   "toc_position": {},
   "toc_section_display": true,
   "toc_window_display": false
  }
 },
 "nbformat": 4,
 "nbformat_minor": 4
}
