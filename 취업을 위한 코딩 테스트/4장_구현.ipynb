{
 "cells": [
  {
   "cell_type": "markdown",
   "metadata": {},
   "source": [
    "##### 구현(시뮬레이션, 완전 탐색) 유형 \n",
    "- 코딩테스트에서 가장 난이도가 낮은 1 ~ 2번 문제로 대부분 그리디 알고리즘이나 구현 문제가 출제됨\n",
    "- 사고력을 확인할 수 있는 기본 난이도 문제로 적합하기 때문  ->  합격을 좌우하는 중요한 문제이기도함"
   ]
  },
  {
   "cell_type": "markdown",
   "metadata": {},
   "source": [
    "# 상하좌우\n",
    "- N * N의 크기의 정사각형 공간위\n",
    "- 출발 지점은 항상 (1,1)\n",
    "- 상,하,좌,우 방향으로 이동할 수 있으며, 공간을 벗어나는 움직임은 무시된다\n",
    "- 여행 계획서가 주어졌을 때 최종적으로 도착할 지점의 좌표 반환\n",
    "    - r: 오른쪽으로 한 칸 이동\n",
    "    - l: 왼쪽으로 한 칸 이동\n",
    "    - u: 위로 한 칸 이동\n",
    "    - d: 아래로 한 칸 이동"
   ]
  },
  {
   "cell_type": "code",
   "execution_count": null,
   "metadata": {
    "ExecuteTime": {
     "end_time": "2021-05-16T12:36:42.273171Z",
     "start_time": "2021-05-16T12:36:42.258211Z"
    }
   },
   "outputs": [],
   "source": [
    "def solution(n, route):\n",
    "    x, y = 1, 1\n",
    "    for go in route:\n",
    "        if go == 'r' and y < n:\n",
    "            y += 1\n",
    "        elif go == 'l' and y > 1:\n",
    "            y -= 1\n",
    "        elif go == 'u' and x > 1:\n",
    "            x -= 1\n",
    "        elif go == 'd' and x < n:\n",
    "            x += 1\n",
    "    return (x,y)"
   ]
  },
  {
   "cell_type": "code",
   "execution_count": 8,
   "metadata": {
    "ExecuteTime": {
     "end_time": "2021-05-16T12:36:42.471758Z",
     "start_time": "2021-05-16T12:36:42.460822Z"
    }
   },
   "outputs": [
    {
     "data": {
      "text/plain": [
       "(3, 4)"
      ]
     },
     "execution_count": 8,
     "metadata": {},
     "output_type": "execute_result"
    }
   ],
   "source": [
    "route = ['r','r','r','u','d','d']\n",
    "solution(5, route)"
   ]
  },
  {
   "cell_type": "markdown",
   "metadata": {},
   "source": [
    "# 시각\n",
    "- 정수 N이 입력되면 00시 00분 00초 ~ N시 59분 59초까지 모든 시각 중에서 3이 하나라도 포함되는 모든 경우의 수를 구하라"
   ]
  },
  {
   "cell_type": "code",
   "execution_count": 9,
   "metadata": {
    "ExecuteTime": {
     "end_time": "2021-05-16T12:58:57.212471Z",
     "start_time": "2021-05-16T12:58:57.206485Z"
    }
   },
   "outputs": [],
   "source": [
    "def solution(n):\n",
    "    cnt = 0\n",
    "    for h in range(n+1):\n",
    "        for m in range(60):\n",
    "            for s in range(60):\n",
    "                if '3' in str(h) + str(m) + str(s):\n",
    "                    cnt += 1\n",
    "    return cnt"
   ]
  },
  {
   "cell_type": "code",
   "execution_count": 10,
   "metadata": {
    "ExecuteTime": {
     "end_time": "2021-05-16T12:59:10.316316Z",
     "start_time": "2021-05-16T12:59:10.275395Z"
    }
   },
   "outputs": [
    {
     "data": {
      "text/plain": [
       "11475"
      ]
     },
     "execution_count": 10,
     "metadata": {},
     "output_type": "execute_result"
    }
   ],
   "source": [
    "solution(5)"
   ]
  },
  {
   "cell_type": "markdown",
   "metadata": {},
   "source": [
    "# 왕실의 나이트\n",
    "- 체스판과 같은 8 * 8 좌표 평면에 특정한 위치에 나이트가 서 있다.\n",
    "- 2가지 경우로 이동할 수 있을 때, 이동할 수 있는 모든 경우의 수 출력 (범위를 벗어날 수 없음)\n",
    "    - 1. 수평으로 두 칸 이동한 뒤, 수직으로 한 칸 이동\n",
    "    - 2. 수직으로 두 칸 이동한 뒤, 수평으로 한 칸 이동"
   ]
  },
  {
   "cell_type": "code",
   "execution_count": 11,
   "metadata": {
    "ExecuteTime": {
     "end_time": "2021-05-16T13:15:49.261475Z",
     "start_time": "2021-05-16T13:15:49.243492Z"
    }
   },
   "outputs": [],
   "source": [
    "def solution(row, col):\n",
    "    # 이동할 수 있는 모든 경우의 수\n",
    "    steps = [(2,1), (2,-1), (-2,1), (-2,-1), (1,2), (-1,2), (1,-2), (-1,-2)]\n",
    "    cnt = 0\n",
    "    for step in steps:\n",
    "        next_row = row + step[0]\n",
    "        next_col = col + step[1]\n",
    "        if next_row >= 1 and next_row <= 8 and next_col >= 1 and next_col <= 8:\n",
    "            cnt += 1\n",
    "    return cnt"
   ]
  },
  {
   "cell_type": "code",
   "execution_count": 12,
   "metadata": {
    "ExecuteTime": {
     "end_time": "2021-05-16T13:15:56.402975Z",
     "start_time": "2021-05-16T13:15:56.395997Z"
    }
   },
   "outputs": [
    {
     "data": {
      "text/plain": [
       "2"
      ]
     },
     "execution_count": 12,
     "metadata": {},
     "output_type": "execute_result"
    }
   ],
   "source": [
    "solution(1,1)"
   ]
  },
  {
   "cell_type": "code",
   "execution_count": 13,
   "metadata": {
    "ExecuteTime": {
     "end_time": "2021-05-16T13:16:06.685862Z",
     "start_time": "2021-05-16T13:16:06.668943Z"
    }
   },
   "outputs": [
    {
     "data": {
      "text/plain": [
       "6"
      ]
     },
     "execution_count": 13,
     "metadata": {},
     "output_type": "execute_result"
    }
   ],
   "source": [
    "solution(2,3)"
   ]
  },
  {
   "cell_type": "code",
   "execution_count": null,
   "metadata": {},
   "outputs": [],
   "source": []
  }
 ],
 "metadata": {
  "kernelspec": {
   "display_name": "Python 3",
   "language": "python",
   "name": "python3"
  },
  "language_info": {
   "codemirror_mode": {
    "name": "ipython",
    "version": 3
   },
   "file_extension": ".py",
   "mimetype": "text/x-python",
   "name": "python",
   "nbconvert_exporter": "python",
   "pygments_lexer": "ipython3",
   "version": "3.8.3"
  },
  "toc": {
   "base_numbering": 1,
   "nav_menu": {},
   "number_sections": true,
   "sideBar": true,
   "skip_h1_title": false,
   "title_cell": "Table of Contents",
   "title_sidebar": "Contents",
   "toc_cell": false,
   "toc_position": {},
   "toc_section_display": true,
   "toc_window_display": false
  }
 },
 "nbformat": 4,
 "nbformat_minor": 4
}
