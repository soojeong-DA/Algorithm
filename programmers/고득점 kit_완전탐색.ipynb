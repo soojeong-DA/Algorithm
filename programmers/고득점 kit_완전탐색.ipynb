{
 "cells": [
  {
   "cell_type": "markdown",
   "metadata": {},
   "source": [
    "# 모의고사"
   ]
  },
  {
   "cell_type": "code",
   "execution_count": 1,
   "metadata": {
    "ExecuteTime": {
     "end_time": "2021-05-17T06:55:19.908642Z",
     "start_time": "2021-05-17T06:55:19.879753Z"
    }
   },
   "outputs": [],
   "source": [
    "def solution(answers):\n",
    "    stu1 = [1, 2, 3, 4, 5]\n",
    "    stu2 = [2, 1, 2, 3, 2, 4, 2, 5]\n",
    "    stu3 = [3, 3, 1, 1, 2, 2, 4, 4, 5, 5]\n",
    "    score = [0, 0, 0]\n",
    "    result = []\n",
    "    for i in range(0, len(answers)):\n",
    "        if answers[i] == stu1[i % len(stu1)]:\n",
    "            score[0] += 1\n",
    "        if answers[i] == stu2[i % len(stu2)]:\n",
    "            score[1] += 1\n",
    "        if answers[i] == stu3[i % len(stu3)]:\n",
    "            score[2] += 1\n",
    "    for i in range(0,3):\n",
    "        if max(score) == score[i]:\n",
    "            result.append(i+1)\n",
    "    result.sort()\n",
    "    return result"
   ]
  },
  {
   "cell_type": "markdown",
   "metadata": {},
   "source": [
    "# 소수 찾기"
   ]
  },
  {
   "cell_type": "code",
   "execution_count": 2,
   "metadata": {
    "ExecuteTime": {
     "end_time": "2021-05-17T06:55:19.938561Z",
     "start_time": "2021-05-17T06:55:19.912632Z"
    }
   },
   "outputs": [],
   "source": [
    "l = [[\"1\"],[\"7\"],[\"1\",\"7\"],[\"7\",\"1\"]]"
   ]
  },
  {
   "cell_type": "code",
   "execution_count": 3,
   "metadata": {
    "ExecuteTime": {
     "end_time": "2021-05-17T06:55:19.984440Z",
     "start_time": "2021-05-17T06:55:19.943550Z"
    }
   },
   "outputs": [],
   "source": [
    "[''.join(num) for num in l]"
   ]
  },
  {
   "cell_type": "code",
   "execution_count": 4,
   "metadata": {
    "ExecuteTime": {
     "end_time": "2021-05-17T06:55:20.000412Z",
     "start_time": "2021-05-17T06:55:19.988430Z"
    }
   },
   "outputs": [],
   "source": [
    "set([int(''.join(num)) for num in l])"
   ]
  },
  {
   "cell_type": "code",
   "execution_count": 5,
   "metadata": {
    "ExecuteTime": {
     "end_time": "2021-05-17T06:55:20.046758Z",
     "start_time": "2021-05-17T06:55:20.006383Z"
    }
   },
   "outputs": [],
   "source": [
    "for i in set([''.join(num) for num in l]):\n",
    "    print(i)"
   ]
  },
  {
   "cell_type": "code",
   "execution_count": 6,
   "metadata": {
    "ExecuteTime": {
     "end_time": "2021-05-17T06:55:20.061717Z",
     "start_time": "2021-05-17T06:55:20.050748Z"
    }
   },
   "outputs": [],
   "source": [
    "def check(n):\n",
    "    if n < 2:    # 0, 1\n",
    "        return False\n",
    "    k = math.sqrt(n)\n",
    "    for i in range(2, int(k)+1):\n",
    "        if n % i == 0:\n",
    "            return False\n",
    "    return True"
   ]
  },
  {
   "cell_type": "code",
   "execution_count": 7,
   "metadata": {
    "ExecuteTime": {
     "end_time": "2021-05-17T06:55:20.092635Z",
     "start_time": "2021-05-17T06:55:20.064710Z"
    }
   },
   "outputs": [],
   "source": [
    "from itertools import permutations\n",
    "import math\n",
    "\n",
    "def check(n):\n",
    "    k = math.sqrt(n)\n",
    "    if n < 2: \n",
    "        return False\n",
    "\n",
    "    for i in range(2, int(k)+1):\n",
    "        if n % i == 0:\n",
    "            return False\n",
    "    return True\n",
    "\n",
    "def solution(numbers):\n",
    "    numbers = list(numbers)\n",
    "    num_list = []\n",
    "    # 순열을 이용해 모든 조합 찾기\n",
    "    for n in range(1, len(numbers)+1):\n",
    "        num_list.extend(list(permutations(numbers, n)))\n",
    "    # 문자열 join, int로 변환, 중복 제거\n",
    "    num_set2 = set([int(''.join(num)) for num in num_list])\n",
    "    # 소수 찾기\n",
    "    cnt = 0\n",
    "    for num in num_set2:\n",
    "        if check(num):   # True면\n",
    "            cnt += 1\n",
    "    return cnt"
   ]
  },
  {
   "cell_type": "code",
   "execution_count": 8,
   "metadata": {
    "ExecuteTime": {
     "end_time": "2021-05-17T06:55:20.107594Z",
     "start_time": "2021-05-17T06:55:20.095628Z"
    }
   },
   "outputs": [],
   "source": [
    "from itertools import permutations\n",
    "import math\n",
    "\n",
    "def check(n):\n",
    "    k = math.sqrt(n)\n",
    "    if n < 2: \n",
    "        return False\n",
    "\n",
    "    for i in range(2, int(k)+1):\n",
    "        if n % i == 0:\n",
    "            return False\n",
    "    return True\n",
    "\n",
    "def solution(numbers):\n",
    "    numbers = list(numbers)\n",
    "    num_list = set()\n",
    "    # 순열을 이용해 모든 조합 찾기\n",
    "    for n in range(1, len(numbers)+1):\n",
    "        num_list |= set(map(int, map(''.join, permutations(numbers, n))))\n",
    "    # 소수 찾기\n",
    "    cnt = 0\n",
    "    for num in num_list:\n",
    "        if check(num):   # True면\n",
    "            cnt += 1\n",
    "    return cnt"
   ]
  },
  {
   "cell_type": "code",
   "execution_count": 9,
   "metadata": {
    "ExecuteTime": {
     "end_time": "2021-05-17T06:55:20.137515Z",
     "start_time": "2021-05-17T06:55:20.111584Z"
    }
   },
   "outputs": [
    {
     "data": {
      "text/plain": [
       "2"
      ]
     },
     "execution_count": 9,
     "metadata": {},
     "output_type": "execute_result"
    }
   ],
   "source": [
    "solution('011')"
   ]
  },
  {
   "cell_type": "markdown",
   "metadata": {},
   "source": [
    "# 카펫"
   ]
  },
  {
   "cell_type": "code",
   "execution_count": 10,
   "metadata": {
    "ExecuteTime": {
     "end_time": "2021-05-17T06:55:20.169429Z",
     "start_time": "2021-05-17T06:55:20.143500Z"
    }
   },
   "outputs": [],
   "source": [
    "def solution(brown, yellow):\n",
    "    total = brown + yellow\n",
    "    for n in range(3, total//3 + 1):    # 가로\n",
    "        if total % n == 0:\n",
    "            r = total//n    # 세로 \n",
    "            if yellow == (n-2)*(r-2) and n >= r:\n",
    "                return [n,r]"
   ]
  }
 ],
 "metadata": {
  "kernelspec": {
   "display_name": "Python 3",
   "language": "python",
   "name": "python3"
  },
  "language_info": {
   "codemirror_mode": {
    "name": "ipython",
    "version": 3
   },
   "file_extension": ".py",
   "mimetype": "text/x-python",
   "name": "python",
   "nbconvert_exporter": "python",
   "pygments_lexer": "ipython3",
   "version": "3.8.3"
  },
  "toc": {
   "base_numbering": 1,
   "nav_menu": {},
   "number_sections": true,
   "sideBar": true,
   "skip_h1_title": false,
   "title_cell": "Table of Contents",
   "title_sidebar": "Contents",
   "toc_cell": false,
   "toc_position": {},
   "toc_section_display": true,
   "toc_window_display": false
  }
 },
 "nbformat": 4,
 "nbformat_minor": 4
}
