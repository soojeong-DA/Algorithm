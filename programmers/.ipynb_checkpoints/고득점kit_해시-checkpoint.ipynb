{
 "cells": [
  {
   "cell_type": "markdown",
   "metadata": {},
   "source": [
    "# 완주하지 못한 선수"
   ]
  },
  {
   "cell_type": "code",
   "execution_count": 10,
   "metadata": {
    "ExecuteTime": {
     "end_time": "2021-05-15T11:33:15.044645Z",
     "start_time": "2021-05-15T11:33:15.032681Z"
    }
   },
   "outputs": [],
   "source": [
    "# 내풀이 - 1\n",
    "def solution(pt,com):\n",
    "    pt.sort()\n",
    "    com.sort()\n",
    "    while com:\n",
    "        p = pt.pop()\n",
    "        c = com.pop()\n",
    "        if p != c:\n",
    "            return p\n",
    "    return p\n",
    "\n",
    "# 내풀이 - 2\n",
    "def solution(participant, completion):\n",
    "    participant.sort()\n",
    "    completion.sort()\n",
    "    for p, c in zip(participant, completion):\n",
    "        if p != c:\n",
    "            return p\n",
    "    return participant[-1]"
   ]
  },
  {
   "cell_type": "code",
   "execution_count": 1,
   "metadata": {
    "ExecuteTime": {
     "end_time": "2021-05-15T11:30:23.350226Z",
     "start_time": "2021-05-15T11:30:23.320290Z"
    }
   },
   "outputs": [
    {
     "data": {
      "text/plain": [
       "Counter({'mislav': 1})"
      ]
     },
     "execution_count": 1,
     "metadata": {},
     "output_type": "execute_result"
    }
   ],
   "source": [
    "# 최적화 풀이\n",
    "import collections\n",
    "\n",
    "def solution():\n",
    "    answer = collections.Counter(participant) - collections.Counter(completion)     # dict끼리 빼기 가능\n",
    "    return list(answer.keys())[0]"
   ]
  },
  {
   "cell_type": "code",
   "execution_count": 9,
   "metadata": {
    "ExecuteTime": {
     "end_time": "2021-05-15T11:32:00.600752Z",
     "start_time": "2021-05-15T11:32:00.591812Z"
    }
   },
   "outputs": [
    {
     "data": {
      "text/plain": [
       "['mislav']"
      ]
     },
     "execution_count": 9,
     "metadata": {},
     "output_type": "execute_result"
    }
   ],
   "source": [
    "# list(answer.keys())"
   ]
  },
  {
   "cell_type": "code",
   "execution_count": null,
   "metadata": {},
   "outputs": [],
   "source": [
    "# list(answer.keys())[0]"
   ]
  },
  {
   "cell_type": "markdown",
   "metadata": {},
   "source": [
    "# 전화번호 목록"
   ]
  },
  {
   "cell_type": "code",
   "execution_count": null,
   "metadata": {},
   "outputs": [],
   "source": [
    "# 최적화 풀이\n",
    "def solution(phone_book):\n",
    "    phone_book.sort()\n",
    "    for i in range(len(phone_book) - 1):\n",
    "        # 접두어로 시작! -> sort후 접두어가 같으면 바로 옆에 있을 것 => 바로 오른쪽 것과 비교\n",
    "        if phone_book[i] == phone_book[i+1][:len(phone_book[i])]:\n",
    "            return False\n",
    "    return True"
   ]
  },
  {
   "cell_type": "code",
   "execution_count": null,
   "metadata": {},
   "outputs": [],
   "source": []
  },
  {
   "cell_type": "markdown",
   "metadata": {},
   "source": [
    "# 위장"
   ]
  },
  {
   "cell_type": "code",
   "execution_count": null,
   "metadata": {},
   "outputs": [],
   "source": [
    "def solution(clothes):\n",
    "    answer = 1\n",
    "    di = dict()\n",
    "    for value, key in clothes:\n",
    "        if key not in di:\n",
    "            di[key] = 1\n",
    "        else:\n",
    "            di[key] += 1\n",
    "    for value in di.values():\n",
    "        answer *= value + 1     # 착용 안할 경우도 있음\n",
    "    return answer - 1"
   ]
  },
  {
   "cell_type": "code",
   "execution_count": null,
   "metadata": {},
   "outputs": [],
   "source": [
    "# value를 list로 넣은 후, append\n",
    "def solution(clothes):\n",
    "    answer = 1\n",
    "    \n",
    "    d = dict()\n",
    "    for val, key in clothes:\n",
    "        if key in d.keys():\n",
    "            d[key].append(val)\n",
    "        else:\n",
    "            d[key] = [val]\n",
    "    \n",
    "    for val in d.values():\n",
    "        answer *= (len(val)+1)\n",
    "    \n",
    "    return answer - 1"
   ]
  },
  {
   "cell_type": "code",
   "execution_count": 62,
   "metadata": {
    "ExecuteTime": {
     "end_time": "2021-05-15T13:11:33.993834Z",
     "start_time": "2021-05-15T13:11:33.980870Z"
    }
   },
   "outputs": [
    {
     "data": {
      "text/plain": [
       "['eyewear', 'headgear']"
      ]
     },
     "execution_count": 62,
     "metadata": {},
     "output_type": "execute_result"
    }
   ],
   "source": [
    "sorted(a, key= lambda x : a[x])"
   ]
  },
  {
   "cell_type": "markdown",
   "metadata": {},
   "source": [
    "# 베스트 앨범"
   ]
  },
  {
   "cell_type": "code",
   "execution_count": null,
   "metadata": {},
   "outputs": [],
   "source": [
    "from collections import defaultdict\n",
    "\n",
    "def solution(genres, plays):\n",
    "    play_count_by_genre = defaultdict(int)\n",
    "    songs_in_genre = defaultdict(list)\n",
    "\n",
    "    for song_id, genre, play in zip(range(len(genres)), genres, plays):\n",
    "        play_count_by_genre[genre] += play\n",
    "        songs_in_genre[genre].append((-play, song_id))\n",
    "        \n",
    "    genre_in_order = sorted(play_count_by_genre.keys(), key=lambda g:play_count_by_genre[g], reverse=True)\n",
    "    answer = list()\n",
    "    for genre in genre_in_order:\n",
    "        answer.extend([ song_id for minus_play, song_id in sorted(songs_in_genre[genre])[:2]])\n",
    "    return answer"
   ]
  },
  {
   "cell_type": "code",
   "execution_count": null,
   "metadata": {},
   "outputs": [],
   "source": [
    "# from collections import defaultdict\n",
    "\n",
    "# def solution(genres, plays):\n",
    "#     ge_d = defaultdict(int)\n",
    "#     play_d = defaultdict(list)\n",
    "    \n",
    "#     for i, key, val in zip(range(len(genres)), genres, plays):\n",
    "#         ge_d[key] += val\n",
    "#         play_d[key].append((val, i))\n",
    "#     # 장르 value 기준 내림차순 정렬\n",
    "#     ge_d2 = sorted(ge_d, key = lambda x : ge_d[x], reverse=True)\n",
    "#     # 장르순으로 호출\n",
    "#     result = []\n",
    "#     for ge in ge_d2:\n",
    "#         result.extend([id for val, id in sorted(play_d[ge], reverse=True)[:2]])\n",
    "#     return result"
   ]
  },
  {
   "cell_type": "code",
   "execution_count": 66,
   "metadata": {
    "ExecuteTime": {
     "end_time": "2021-05-15T13:25:51.177388Z",
     "start_time": "2021-05-15T13:25:51.155448Z"
    }
   },
   "outputs": [
    {
     "name": "stdout",
     "output_type": "stream",
     "text": [
      "0 0 0\n",
      "1 1 1\n",
      "2 2 2\n"
     ]
    }
   ],
   "source": [
    "for i, a, b in zip(range(3), range(3), range(3)):\n",
    "    print(i,a,b)"
   ]
  },
  {
   "cell_type": "code",
   "execution_count": 84,
   "metadata": {
    "ExecuteTime": {
     "end_time": "2021-05-15T13:38:53.558640Z",
     "start_time": "2021-05-15T13:38:53.547671Z"
    }
   },
   "outputs": [],
   "source": [
    "from collections import defaultdict\n",
    "\n",
    "ge_d = defaultdict(int)\n",
    "play_d = defaultdict(list)"
   ]
  },
  {
   "cell_type": "code",
   "execution_count": 86,
   "metadata": {
    "ExecuteTime": {
     "end_time": "2021-05-15T13:38:57.165184Z",
     "start_time": "2021-05-15T13:38:57.143244Z"
    }
   },
   "outputs": [
    {
     "data": {
      "text/plain": [
       "defaultdict(list, {'class': [(800, 1), (900, 1)]})"
      ]
     },
     "execution_count": 86,
     "metadata": {},
     "output_type": "execute_result"
    }
   ],
   "source": [
    "play_d['class'].append((900,1))\n",
    "play_d"
   ]
  },
  {
   "cell_type": "code",
   "execution_count": 92,
   "metadata": {
    "ExecuteTime": {
     "end_time": "2021-05-15T14:01:09.377031Z",
     "start_time": "2021-05-15T14:01:09.365031Z"
    }
   },
   "outputs": [
    {
     "data": {
      "text/plain": [
       "[(800, 1), (900, 1)]"
      ]
     },
     "execution_count": 92,
     "metadata": {},
     "output_type": "execute_result"
    }
   ],
   "source": [
    "sorted(play_d['class'],reverse=False)[:2]"
   ]
  }
 ],
 "metadata": {
  "kernelspec": {
   "display_name": "Python 3",
   "language": "python",
   "name": "python3"
  },
  "language_info": {
   "codemirror_mode": {
    "name": "ipython",
    "version": 3
   },
   "file_extension": ".py",
   "mimetype": "text/x-python",
   "name": "python",
   "nbconvert_exporter": "python",
   "pygments_lexer": "ipython3",
   "version": "3.8.3"
  },
  "toc": {
   "base_numbering": 1,
   "nav_menu": {},
   "number_sections": true,
   "sideBar": true,
   "skip_h1_title": false,
   "title_cell": "Table of Contents",
   "title_sidebar": "Contents",
   "toc_cell": false,
   "toc_position": {},
   "toc_section_display": true,
   "toc_window_display": false
  }
 },
 "nbformat": 4,
 "nbformat_minor": 4
}
