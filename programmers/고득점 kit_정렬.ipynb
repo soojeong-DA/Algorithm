{
 "cells": [
  {
   "cell_type": "markdown",
   "metadata": {},
   "source": [
    "# k번째 수"
   ]
  },
  {
   "cell_type": "code",
   "execution_count": 1,
   "metadata": {
    "ExecuteTime": {
     "end_time": "2021-05-17T07:20:44.851395Z",
     "start_time": "2021-05-17T07:20:44.838432Z"
    }
   },
   "outputs": [],
   "source": [
    "def solution(arry, commands):\n",
    "    result = []\n",
    "    for a in commands:\n",
    "        tmp_arry = arry[a[0]-1:a[1]]\n",
    "        tmp_arry.sort()\n",
    "        result.append(tmp_arry[a[2]-1])\n",
    "    return result"
   ]
  },
  {
   "cell_type": "markdown",
   "metadata": {},
   "source": [
    "# 가장 큰 수\n",
    "- lambda를 이용한 정렬, str -> join -> int -> str이 핵심!"
   ]
  },
  {
   "cell_type": "code",
   "execution_count": 6,
   "metadata": {
    "ExecuteTime": {
     "end_time": "2021-05-17T07:47:18.749331Z",
     "start_time": "2021-05-17T07:47:18.728383Z"
    }
   },
   "outputs": [],
   "source": [
    "def solution(numbers):\n",
    "    numbers = list(map(str, numbers))\n",
    "    numbers.sort(key=lambda x: x*3, reverse=True)   # 문자열 3번 반복해서 크기 판정\n",
    "    return str(int(''.join(numbers)))   # [0,0,0,0] -> '0000'이 리턴되므로, int로 변환해서 '0'으로 바꿔야"
   ]
  },
  {
   "cell_type": "code",
   "execution_count": null,
   "metadata": {},
   "outputs": [],
   "source": []
  }
 ],
 "metadata": {
  "kernelspec": {
   "display_name": "Python 3",
   "language": "python",
   "name": "python3"
  },
  "language_info": {
   "codemirror_mode": {
    "name": "ipython",
    "version": 3
   },
   "file_extension": ".py",
   "mimetype": "text/x-python",
   "name": "python",
   "nbconvert_exporter": "python",
   "pygments_lexer": "ipython3",
   "version": "3.8.3"
  },
  "toc": {
   "base_numbering": 1,
   "nav_menu": {},
   "number_sections": true,
   "sideBar": true,
   "skip_h1_title": false,
   "title_cell": "Table of Contents",
   "title_sidebar": "Contents",
   "toc_cell": false,
   "toc_position": {},
   "toc_section_display": true,
   "toc_window_display": false
  }
 },
 "nbformat": 4,
 "nbformat_minor": 4
}
