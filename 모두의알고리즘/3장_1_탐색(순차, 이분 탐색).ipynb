{
 "cells": [
  {
   "cell_type": "markdown",
   "metadata": {},
   "source": [
    "# 순차 탐색\n",
    "- 순차 탐색(sequential search): 리스트 안에 있는 원소를 하나씩 순차적으로 비교하면서 탐색\n",
    "- 예시 문제: 주어진 리스트에 특정한 값이 있는지 찾아 그 위치를 반환하는 알고리즘 작성 (찾는 값이 없는 경우 -1 출력)"
   ]
  },
  {
   "cell_type": "code",
   "execution_count": 1,
   "metadata": {
    "ExecuteTime": {
     "end_time": "2021-05-13T14:52:42.778474Z",
     "start_time": "2021-05-13T14:52:42.764509Z"
    }
   },
   "outputs": [],
   "source": [
    "# 하나씩 순차적으로 비교  =>  경우에 따라 시간복잡도가 다르지만, 최악의 경우 O(n)\n",
    "def find_x(l, x):\n",
    "    for i in range(0,len(l)):\n",
    "        if l[i] == x:\n",
    "            return i\n",
    "    return -1"
   ]
  },
  {
   "cell_type": "code",
   "execution_count": 2,
   "metadata": {
    "ExecuteTime": {
     "end_time": "2021-05-13T14:52:42.794430Z",
     "start_time": "2021-05-13T14:52:42.783460Z"
    }
   },
   "outputs": [],
   "source": [
    "# .index() 활용\n",
    "def find_x(l, x):\n",
    "    if x in l:\n",
    "        return l.index(x)\n",
    "    else:\n",
    "        return -1"
   ]
  },
  {
   "cell_type": "code",
   "execution_count": 3,
   "metadata": {
    "ExecuteTime": {
     "end_time": "2021-05-13T14:52:42.825348Z",
     "start_time": "2021-05-13T14:52:42.799417Z"
    }
   },
   "outputs": [],
   "source": [
    "v = [17, 92, 18, 33, 58, 7, 33, 42]"
   ]
  },
  {
   "cell_type": "code",
   "execution_count": 4,
   "metadata": {
    "ExecuteTime": {
     "end_time": "2021-05-13T14:52:42.855270Z",
     "start_time": "2021-05-13T14:52:42.832329Z"
    }
   },
   "outputs": [
    {
     "data": {
      "text/plain": [
       "2"
      ]
     },
     "execution_count": 4,
     "metadata": {},
     "output_type": "execute_result"
    }
   ],
   "source": [
    "find_x(v, 18)"
   ]
  },
  {
   "cell_type": "code",
   "execution_count": 5,
   "metadata": {
    "ExecuteTime": {
     "end_time": "2021-05-13T14:52:42.887183Z",
     "start_time": "2021-05-13T14:52:42.863248Z"
    }
   },
   "outputs": [
    {
     "data": {
      "text/plain": [
       "3"
      ]
     },
     "execution_count": 5,
     "metadata": {},
     "output_type": "execute_result"
    }
   ],
   "source": [
    "find_x(v, 33)"
   ]
  },
  {
   "cell_type": "code",
   "execution_count": 6,
   "metadata": {
    "ExecuteTime": {
     "end_time": "2021-05-13T14:52:42.919098Z",
     "start_time": "2021-05-13T14:52:42.894174Z"
    }
   },
   "outputs": [
    {
     "data": {
      "text/plain": [
       "-1"
      ]
     },
     "execution_count": 6,
     "metadata": {},
     "output_type": "execute_result"
    }
   ],
   "source": [
    "find_x(v, 900)"
   ]
  },
  {
   "cell_type": "markdown",
   "metadata": {},
   "source": [
    "## 추가 연습 문제"
   ]
  },
  {
   "cell_type": "markdown",
   "metadata": {},
   "source": [
    "### 주어진 리스트에 특정한 값이 있는지 찾아 '모든 위치'를 반환하는 알고리즘 작성 \n",
    "- 찾는 값이 없는 경우 빈 list 출력"
   ]
  },
  {
   "cell_type": "code",
   "execution_count": 15,
   "metadata": {
    "ExecuteTime": {
     "end_time": "2021-05-13T15:31:35.230200Z",
     "start_time": "2021-05-13T15:31:35.212249Z"
    }
   },
   "outputs": [],
   "source": [
    "def find_all(l, x):\n",
    "    result = []\n",
    "    for i in range(0, len(l)):\n",
    "        if l[i] == x:\n",
    "            result.append(i)\n",
    "    return result"
   ]
  },
  {
   "cell_type": "code",
   "execution_count": 16,
   "metadata": {
    "ExecuteTime": {
     "end_time": "2021-05-13T15:31:56.995284Z",
     "start_time": "2021-05-13T15:31:56.983318Z"
    }
   },
   "outputs": [],
   "source": [
    "v = [17, 92, 18, 33, 58, 7, 33, 42]"
   ]
  },
  {
   "cell_type": "code",
   "execution_count": 17,
   "metadata": {
    "ExecuteTime": {
     "end_time": "2021-05-13T15:31:57.316799Z",
     "start_time": "2021-05-13T15:31:57.303800Z"
    }
   },
   "outputs": [
    {
     "data": {
      "text/plain": [
       "[2]"
      ]
     },
     "execution_count": 17,
     "metadata": {},
     "output_type": "execute_result"
    }
   ],
   "source": [
    "find_all(v, 18)"
   ]
  },
  {
   "cell_type": "code",
   "execution_count": 18,
   "metadata": {
    "ExecuteTime": {
     "end_time": "2021-05-13T15:31:57.667816Z",
     "start_time": "2021-05-13T15:31:57.656848Z"
    }
   },
   "outputs": [
    {
     "data": {
      "text/plain": [
       "[3, 6]"
      ]
     },
     "execution_count": 18,
     "metadata": {},
     "output_type": "execute_result"
    }
   ],
   "source": [
    "find_all(v, 33)"
   ]
  },
  {
   "cell_type": "code",
   "execution_count": 19,
   "metadata": {
    "ExecuteTime": {
     "end_time": "2021-05-13T15:31:58.021119Z",
     "start_time": "2021-05-13T15:31:58.000175Z"
    }
   },
   "outputs": [
    {
     "data": {
      "text/plain": [
       "[]"
      ]
     },
     "execution_count": 19,
     "metadata": {},
     "output_type": "execute_result"
    }
   ],
   "source": [
    "find_all(v, 900)"
   ]
  },
  {
   "cell_type": "markdown",
   "metadata": {},
   "source": [
    "### 학생 번호와 이름이 list로 주어졌을 때, 학생 번호를 입력하면 학생 번호에 해당하는 이름을 순차 탐색으로 찾아 반환\n",
    "- 해당하는 학생의 번호가 없으면 물음표(?) 출력"
   ]
  },
  {
   "cell_type": "code",
   "execution_count": 21,
   "metadata": {
    "ExecuteTime": {
     "end_time": "2021-05-13T15:44:57.806298Z",
     "start_time": "2021-05-13T15:44:57.792336Z"
    }
   },
   "outputs": [],
   "source": [
    "def get_name(s_no, s_name, find_no):\n",
    "    for i in range(0, len(s_no)):\n",
    "        if s_no[i] == find_no:\n",
    "            return s_name[i]\n",
    "    return '?'"
   ]
  },
  {
   "cell_type": "code",
   "execution_count": 20,
   "metadata": {
    "ExecuteTime": {
     "end_time": "2021-05-13T15:35:32.767332Z",
     "start_time": "2021-05-13T15:35:32.751378Z"
    }
   },
   "outputs": [],
   "source": [
    "sample_no = [39, 14, 67, 105]\n",
    "sample_name = ['Justin', 'John', 'Mike', 'Summer']"
   ]
  },
  {
   "cell_type": "code",
   "execution_count": 22,
   "metadata": {
    "ExecuteTime": {
     "end_time": "2021-05-13T15:45:12.156665Z",
     "start_time": "2021-05-13T15:45:12.136715Z"
    }
   },
   "outputs": [
    {
     "data": {
      "text/plain": [
       "'Summer'"
      ]
     },
     "execution_count": 22,
     "metadata": {},
     "output_type": "execute_result"
    }
   ],
   "source": [
    "get_name(sample_no, sample_name, 105)"
   ]
  },
  {
   "cell_type": "code",
   "execution_count": 23,
   "metadata": {
    "ExecuteTime": {
     "end_time": "2021-05-13T15:45:19.173829Z",
     "start_time": "2021-05-13T15:45:19.152886Z"
    }
   },
   "outputs": [
    {
     "data": {
      "text/plain": [
       "'?'"
      ]
     },
     "execution_count": 23,
     "metadata": {},
     "output_type": "execute_result"
    }
   ],
   "source": [
    "get_name(sample_no, sample_name, 777)"
   ]
  },
  {
   "cell_type": "markdown",
   "metadata": {},
   "source": [
    "# 이분 탐색\n",
    "- 이분 탐색(Binary search): 이분은 '둘로 나눈다'의 뜻을 가짐. 탐색할 자료를 둘로 나누어 찾는 값이 있을 법한 곳만 탐색 (조건: 정렬되어 있어야 함)\n",
    "- 예시 문제: 자료 크기 순서대로 정렬된 리스트에서 특정한 값이 있는지 찾아 그 위치를 돌려주는 알고리즘 작성 (찾는 값이 없으면 -1 반환)"
   ]
  },
  {
   "cell_type": "code",
   "execution_count": 27,
   "metadata": {
    "ExecuteTime": {
     "end_time": "2021-05-13T16:27:09.106026Z",
     "start_time": "2021-05-13T16:27:09.090067Z"
    }
   },
   "outputs": [],
   "source": [
    "def binary_search(l, x):\n",
    "    start = 0\n",
    "    end = len(l) - 1\n",
    "    # 탐색\n",
    "    while start <= end:    # 탐색 범위가 남아있을 때 까지만\n",
    "        mid = (start + end) // 2     # 중간 값부터 탐색\n",
    "        if x == l[mid]:\n",
    "            return mid\n",
    "        elif x > l[mid]:\n",
    "            start = mid + 1\n",
    "        else:\n",
    "            end = mid - 1\n",
    "    return -1"
   ]
  },
  {
   "cell_type": "code",
   "execution_count": 28,
   "metadata": {
    "ExecuteTime": {
     "end_time": "2021-05-13T16:27:09.533698Z",
     "start_time": "2021-05-13T16:27:09.514717Z"
    }
   },
   "outputs": [],
   "source": [
    "d = [1, 4, 9, 16, 25, 36, 49, 64, 81]"
   ]
  },
  {
   "cell_type": "code",
   "execution_count": 33,
   "metadata": {
    "ExecuteTime": {
     "end_time": "2021-05-13T16:35:27.594587Z",
     "start_time": "2021-05-13T16:35:27.585609Z"
    }
   },
   "outputs": [
    {
     "data": {
      "text/plain": [
       "5"
      ]
     },
     "execution_count": 33,
     "metadata": {},
     "output_type": "execute_result"
    }
   ],
   "source": [
    "binary_search(d, 36)"
   ]
  },
  {
   "cell_type": "code",
   "execution_count": 34,
   "metadata": {
    "ExecuteTime": {
     "end_time": "2021-05-13T16:35:27.990934Z",
     "start_time": "2021-05-13T16:35:27.977971Z"
    }
   },
   "outputs": [
    {
     "data": {
      "text/plain": [
       "-1"
      ]
     },
     "execution_count": 34,
     "metadata": {},
     "output_type": "execute_result"
    }
   ],
   "source": [
    "binary_search(d, 50)"
   ]
  },
  {
   "cell_type": "code",
   "execution_count": 57,
   "metadata": {
    "ExecuteTime": {
     "end_time": "2021-05-13T16:44:14.427830Z",
     "start_time": "2021-05-13T16:44:14.409856Z"
    }
   },
   "outputs": [],
   "source": [
    "# 재귀 호출을 사용한 이분 탐색 \n",
    "def binary_search2(l, x, start, end):\n",
    "    # 종료 조건: 탐색 대상이 없을 때\n",
    "    if start > end:      \n",
    "        return -1\n",
    "    # 탐색\n",
    "    mid = (start + end) // 2\n",
    "    if x == l[mid]:\n",
    "        return mid\n",
    "    elif x > l[mid]:\n",
    "        return binary_search2(l, x, mid + 1, end)   # 값을 좁혀 재귀 호출\n",
    "    else:\n",
    "        return binary_search2(l, x, start, mid - 1) # 값을 좁혀 재귀 호출\n",
    "    return -1"
   ]
  },
  {
   "cell_type": "code",
   "execution_count": 58,
   "metadata": {
    "ExecuteTime": {
     "end_time": "2021-05-13T16:44:14.640470Z",
     "start_time": "2021-05-13T16:44:14.626508Z"
    }
   },
   "outputs": [],
   "source": [
    "def binary_search(l, x):\n",
    "    return binary_search2(l, x, 0, len(l) - 1)"
   ]
  },
  {
   "cell_type": "code",
   "execution_count": 59,
   "metadata": {
    "ExecuteTime": {
     "end_time": "2021-05-13T16:44:14.852794Z",
     "start_time": "2021-05-13T16:44:14.835871Z"
    }
   },
   "outputs": [
    {
     "data": {
      "text/plain": [
       "5"
      ]
     },
     "execution_count": 59,
     "metadata": {},
     "output_type": "execute_result"
    }
   ],
   "source": [
    "binary_search(d, 36)"
   ]
  },
  {
   "cell_type": "code",
   "execution_count": 60,
   "metadata": {
    "ExecuteTime": {
     "end_time": "2021-05-13T16:44:15.096589Z",
     "start_time": "2021-05-13T16:44:15.083620Z"
    }
   },
   "outputs": [
    {
     "data": {
      "text/plain": [
       "-1"
      ]
     },
     "execution_count": 60,
     "metadata": {},
     "output_type": "execute_result"
    }
   ],
   "source": [
    "binary_search(d, 50)"
   ]
  },
  {
   "cell_type": "code",
   "execution_count": null,
   "metadata": {},
   "outputs": [],
   "source": []
  }
 ],
 "metadata": {
  "kernelspec": {
   "display_name": "Python 3",
   "language": "python",
   "name": "python3"
  },
  "language_info": {
   "codemirror_mode": {
    "name": "ipython",
    "version": 3
   },
   "file_extension": ".py",
   "mimetype": "text/x-python",
   "name": "python",
   "nbconvert_exporter": "python",
   "pygments_lexer": "ipython3",
   "version": "3.8.3"
  },
  "toc": {
   "base_numbering": 1,
   "nav_menu": {},
   "number_sections": true,
   "sideBar": true,
   "skip_h1_title": false,
   "title_cell": "Table of Contents",
   "title_sidebar": "Contents",
   "toc_cell": false,
   "toc_position": {},
   "toc_section_display": true,
   "toc_window_display": false
  }
 },
 "nbformat": 4,
 "nbformat_minor": 4
}
