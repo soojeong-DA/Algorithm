{
 "cells": [
  {
   "cell_type": "markdown",
   "metadata": {
    "toc": true
   },
   "source": [
    "<h1>Table of Contents<span class=\"tocSkip\"></span></h1>\n",
    "<div class=\"toc\"><ul class=\"toc-item\"><li><span><a href=\"#1부터-n까지-연속한-숫자의-합-구하기\" data-toc-modified-id=\"1부터-n까지-연속한-숫자의-합-구하기-1\"><span class=\"toc-item-num\">1&nbsp;&nbsp;</span>1부터 n까지 연속한 숫자의 합 구하기</a></span><ul class=\"toc-item\"><li><span><a href=\"#추가-연습문제\" data-toc-modified-id=\"추가-연습문제-1.1\"><span class=\"toc-item-num\">1.1&nbsp;&nbsp;</span>추가 연습문제</a></span></li></ul></li><li><span><a href=\"#최댓값-찾기\" data-toc-modified-id=\"최댓값-찾기-2\"><span class=\"toc-item-num\">2&nbsp;&nbsp;</span>최댓값 찾기</a></span><ul class=\"toc-item\"><li><span><a href=\"#추가-연습문제---1\" data-toc-modified-id=\"추가-연습문제---1-2.1\"><span class=\"toc-item-num\">2.1&nbsp;&nbsp;</span>추가 연습문제 - 1</a></span></li></ul></li><li><span><a href=\"#동명이인-찾기\" data-toc-modified-id=\"동명이인-찾기-3\"><span class=\"toc-item-num\">3&nbsp;&nbsp;</span>동명이인 찾기</a></span><ul class=\"toc-item\"><li><span><a href=\"#추가-연습문제\" data-toc-modified-id=\"추가-연습문제-3.1\"><span class=\"toc-item-num\">3.1&nbsp;&nbsp;</span>추가 연습문제</a></span></li></ul></li></ul></div>"
   ]
  },
  {
   "cell_type": "markdown",
   "metadata": {},
   "source": [
    "# 1부터 n까지 연속한 숫자의 합 구하기"
   ]
  },
  {
   "cell_type": "code",
   "execution_count": 1,
   "metadata": {
    "ExecuteTime": {
     "end_time": "2021-02-22T08:22:37.084107Z",
     "start_time": "2021-02-22T08:22:37.079118Z"
    }
   },
   "outputs": [],
   "source": [
    "# sum 함수 사용\n",
    "def sum_n(n):\n",
    "    return sum(range(1,n+1))"
   ]
  },
  {
   "cell_type": "code",
   "execution_count": 2,
   "metadata": {
    "ExecuteTime": {
     "end_time": "2021-02-22T08:22:37.425621Z",
     "start_time": "2021-02-22T08:22:37.405679Z"
    }
   },
   "outputs": [
    {
     "data": {
      "text/plain": [
       "55"
      ]
     },
     "execution_count": 2,
     "metadata": {},
     "output_type": "execute_result"
    }
   ],
   "source": [
    "sum_n(10)"
   ]
  },
  {
   "cell_type": "code",
   "execution_count": 3,
   "metadata": {
    "ExecuteTime": {
     "end_time": "2021-02-22T08:22:37.939038Z",
     "start_time": "2021-02-22T08:22:37.933053Z"
    }
   },
   "outputs": [],
   "source": [
    "# 반복문을 통해 하나씩 더하기 => O(n)\n",
    "def sum_n2(n):\n",
    "    result = 0\n",
    "    for i in range(1,n+1):\n",
    "        result += i\n",
    "    return result"
   ]
  },
  {
   "cell_type": "code",
   "execution_count": 4,
   "metadata": {
    "ExecuteTime": {
     "end_time": "2021-02-22T08:22:38.315339Z",
     "start_time": "2021-02-22T08:22:38.307359Z"
    }
   },
   "outputs": [
    {
     "data": {
      "text/plain": [
       "55"
      ]
     },
     "execution_count": 4,
     "metadata": {},
     "output_type": "execute_result"
    }
   ],
   "source": [
    "sum_n2(10)"
   ]
  },
  {
   "cell_type": "code",
   "execution_count": 11,
   "metadata": {
    "ExecuteTime": {
     "end_time": "2021-02-22T08:27:13.313451Z",
     "start_time": "2021-02-22T08:27:13.308467Z"
    }
   },
   "outputs": [],
   "source": [
    "# 가우스 공식 이용 - n값(입력값)의 크기와 상관 없이 +,*,// 각각 한 번씩만 하면 답을 얻을 수 있음 => O(1)\n",
    "def sum_n3(n):\n",
    "    return n*(n+1)//2"
   ]
  },
  {
   "cell_type": "code",
   "execution_count": 12,
   "metadata": {
    "ExecuteTime": {
     "end_time": "2021-02-22T08:27:13.489799Z",
     "start_time": "2021-02-22T08:27:13.483816Z"
    }
   },
   "outputs": [
    {
     "data": {
      "text/plain": [
       "55"
      ]
     },
     "execution_count": 12,
     "metadata": {},
     "output_type": "execute_result"
    }
   ],
   "source": [
    "sum_n3(10)"
   ]
  },
  {
   "cell_type": "markdown",
   "metadata": {},
   "source": [
    "- 알고리즘 분석 시 입력 크기가 매우 큰 n에 대해 따져보는 것이 중요"
   ]
  },
  {
   "cell_type": "markdown",
   "metadata": {},
   "source": [
    "## 추가 연습문제\n",
    "- 1부터 n까지 연속한 숫자의 제곱의 합 구하기"
   ]
  },
  {
   "cell_type": "code",
   "execution_count": 15,
   "metadata": {
    "ExecuteTime": {
     "end_time": "2021-02-22T08:51:04.411052Z",
     "start_time": "2021-02-22T08:51:04.405066Z"
    }
   },
   "outputs": [],
   "source": [
    "# for 반복문 이용 - 1\n",
    "def power1(n):\n",
    "    result = 0\n",
    "    for i in range(1,n+1):\n",
    "        result += i**2    # i**2 = i*i\n",
    "    return result"
   ]
  },
  {
   "cell_type": "code",
   "execution_count": 16,
   "metadata": {
    "ExecuteTime": {
     "end_time": "2021-02-22T08:51:04.612413Z",
     "start_time": "2021-02-22T08:51:04.605430Z"
    }
   },
   "outputs": [
    {
     "data": {
      "text/plain": [
       "385"
      ]
     },
     "execution_count": 16,
     "metadata": {},
     "output_type": "execute_result"
    }
   ],
   "source": [
    "power1(10)"
   ]
  },
  {
   "cell_type": "code",
   "execution_count": 3,
   "metadata": {
    "ExecuteTime": {
     "end_time": "2021-02-22T08:55:41.013015Z",
     "start_time": "2021-02-22T08:55:41.006032Z"
    }
   },
   "outputs": [],
   "source": [
    "# for 반복문 이용 - 2 (pow() 함수)\n",
    "def power2(n):\n",
    "    result = 0\n",
    "    for i in range(1,n+1):\n",
    "        result += pow(i,2)\n",
    "    return result"
   ]
  },
  {
   "cell_type": "code",
   "execution_count": 4,
   "metadata": {
    "ExecuteTime": {
     "end_time": "2021-02-22T08:55:41.316795Z",
     "start_time": "2021-02-22T08:55:41.309846Z"
    }
   },
   "outputs": [
    {
     "data": {
      "text/plain": [
       "385"
      ]
     },
     "execution_count": 4,
     "metadata": {},
     "output_type": "execute_result"
    }
   ],
   "source": [
    "power2(10)"
   ]
  },
  {
   "cell_type": "code",
   "execution_count": 6,
   "metadata": {
    "ExecuteTime": {
     "end_time": "2021-02-22T08:57:07.386478Z",
     "start_time": "2021-02-22T08:57:07.380526Z"
    }
   },
   "outputs": [],
   "source": [
    "# 공식 이용\n",
    "def power3(n):\n",
    "    return n*(n+1)*(2*n+1)//6"
   ]
  },
  {
   "cell_type": "code",
   "execution_count": 7,
   "metadata": {
    "ExecuteTime": {
     "end_time": "2021-02-22T08:57:13.660461Z",
     "start_time": "2021-02-22T08:57:13.653510Z"
    }
   },
   "outputs": [
    {
     "data": {
      "text/plain": [
       "385"
      ]
     },
     "execution_count": 7,
     "metadata": {},
     "output_type": "execute_result"
    }
   ],
   "source": [
    "power3(10)"
   ]
  },
  {
   "cell_type": "markdown",
   "metadata": {},
   "source": [
    "# 최댓값 찾기\n",
    "- 주어진 숫자 n개 중 가장 큰 숫자 찾기"
   ]
  },
  {
   "cell_type": "code",
   "execution_count": 10,
   "metadata": {
    "ExecuteTime": {
     "end_time": "2021-02-22T09:12:27.097369Z",
     "start_time": "2021-02-22T09:12:27.092385Z"
    }
   },
   "outputs": [],
   "source": [
    "# test list\n",
    "list1 = [17, 92, 18, 33, 58, 7, 33, 42]"
   ]
  },
  {
   "cell_type": "code",
   "execution_count": 11,
   "metadata": {
    "ExecuteTime": {
     "end_time": "2021-02-22T09:12:33.592165Z",
     "start_time": "2021-02-22T09:12:33.588179Z"
    }
   },
   "outputs": [],
   "source": [
    "# 간단한 함수 max 사용\n",
    "def max_value(l):\n",
    "    return max(l)"
   ]
  },
  {
   "cell_type": "code",
   "execution_count": 12,
   "metadata": {
    "ExecuteTime": {
     "end_time": "2021-02-22T09:12:39.289801Z",
     "start_time": "2021-02-22T09:12:39.283819Z"
    }
   },
   "outputs": [
    {
     "data": {
      "text/plain": [
       "92"
      ]
     },
     "execution_count": 12,
     "metadata": {},
     "output_type": "execute_result"
    }
   ],
   "source": [
    "max_value(list1)"
   ]
  },
  {
   "cell_type": "code",
   "execution_count": 22,
   "metadata": {
    "ExecuteTime": {
     "end_time": "2021-02-22T09:36:59.842542Z",
     "start_time": "2021-02-22T09:36:59.826918Z"
    }
   },
   "outputs": [],
   "source": [
    "# 하나씩 비교해가며 찾기 - 1 => O(n)\n",
    "def max_value2(l):\n",
    "    max_num = l[0]\n",
    "    for i in range(1,len(l)):     # l[1:]로 대체 가능\n",
    "        max_num = max(max_num, l[i])\n",
    "    return max_num"
   ]
  },
  {
   "cell_type": "code",
   "execution_count": 23,
   "metadata": {
    "ExecuteTime": {
     "end_time": "2021-02-22T09:37:00.196211Z",
     "start_time": "2021-02-22T09:37:00.188268Z"
    }
   },
   "outputs": [
    {
     "data": {
      "text/plain": [
       "92"
      ]
     },
     "execution_count": 23,
     "metadata": {},
     "output_type": "execute_result"
    }
   ],
   "source": [
    "max_value2(list1)"
   ]
  },
  {
   "cell_type": "code",
   "execution_count": 19,
   "metadata": {
    "ExecuteTime": {
     "end_time": "2021-02-22T09:31:16.754413Z",
     "start_time": "2021-02-22T09:31:16.748431Z"
    }
   },
   "outputs": [],
   "source": [
    "# 하나씩 비교해가며 찾기 - 2 => O(n)\n",
    "def max_value3(l):\n",
    "    max_num = l[0]\n",
    "    for n in l[1:]:\n",
    "        if max_num < n:\n",
    "            max_num = n\n",
    "    return max_num"
   ]
  },
  {
   "cell_type": "code",
   "execution_count": 21,
   "metadata": {
    "ExecuteTime": {
     "end_time": "2021-02-22T09:31:19.346096Z",
     "start_time": "2021-02-22T09:31:19.340113Z"
    }
   },
   "outputs": [
    {
     "data": {
      "text/plain": [
       "92"
      ]
     },
     "execution_count": 21,
     "metadata": {},
     "output_type": "execute_result"
    }
   ],
   "source": [
    "max_value3(list1)"
   ]
  },
  {
   "cell_type": "markdown",
   "metadata": {},
   "source": [
    "## 추가 연습문제 - 1\n",
    "- 리스트에 숫자가 n개 있을 때 가장 큰 값이 있는 위치 번호를 돌려주는 알고리즘 만들기"
   ]
  },
  {
   "cell_type": "code",
   "execution_count": 28,
   "metadata": {
    "ExecuteTime": {
     "end_time": "2021-02-22T09:54:55.669439Z",
     "start_time": "2021-02-22T09:54:55.661457Z"
    }
   },
   "outputs": [],
   "source": [
    "def find_max_value_index(l):\n",
    "    max_idx = 0\n",
    "    for i in range(1,len(l)):  \n",
    "        if l[max_idx] < l[i]:    # 최대값 자체는 필요 없으니, index만 기억하면 됨\n",
    "            max_idx = i\n",
    "    return max_idx"
   ]
  },
  {
   "cell_type": "code",
   "execution_count": 29,
   "metadata": {
    "ExecuteTime": {
     "end_time": "2021-02-22T09:54:55.922604Z",
     "start_time": "2021-02-22T09:54:55.915625Z"
    }
   },
   "outputs": [
    {
     "data": {
      "text/plain": [
       "1"
      ]
     },
     "execution_count": 29,
     "metadata": {},
     "output_type": "execute_result"
    }
   ],
   "source": [
    "find_max_value_index(list1)   # list1 = [17, 92, 18, 33, 58, 7, 33, 42]"
   ]
  },
  {
   "cell_type": "code",
   "execution_count": 30,
   "metadata": {
    "ExecuteTime": {
     "end_time": "2021-02-22T09:56:03.314050Z",
     "start_time": "2021-02-22T09:56:03.308065Z"
    }
   },
   "outputs": [
    {
     "data": {
      "text/plain": [
       "92"
      ]
     },
     "execution_count": 30,
     "metadata": {},
     "output_type": "execute_result"
    }
   ],
   "source": [
    "list1[1]"
   ]
  },
  {
   "cell_type": "markdown",
   "metadata": {},
   "source": [
    "# 동명이인 찾기\n",
    "- n명의 사람 이름 중에서 같은 이름을 찾아 집합으로 만들어 반환\n",
    "- 입력: n명의 이름이 들어있는 list\n",
    "- 출력(결과): 같은 이름들이 들어있는 set"
   ]
  },
  {
   "cell_type": "code",
   "execution_count": 56,
   "metadata": {
    "ExecuteTime": {
     "end_time": "2021-02-22T11:00:35.961331Z",
     "start_time": "2021-02-22T11:00:35.946053Z"
    }
   },
   "outputs": [],
   "source": [
    "# test list\n",
    "test = ['Tom','Jerry','Mike','Tom']"
   ]
  },
  {
   "cell_type": "code",
   "execution_count": 62,
   "metadata": {
    "ExecuteTime": {
     "end_time": "2021-02-22T14:00:04.918528Z",
     "start_time": "2021-02-22T14:00:04.910549Z"
    }
   },
   "outputs": [],
   "source": [
    "def find_same_name(name_list):\n",
    "#     # 소문자화\n",
    "#     test = list(map(lambda x: x.lower(), test)) \n",
    "    # 중복 이름 찾기\n",
    "    result = set()\n",
    "    for i in range(len(name_list)-1):    # 맨 마지막은 검사 안해도됨(앞에서 이미 함)\n",
    "        if name_list[i] in name_list[i+1:]:\n",
    "            result.add(name_list[i])\n",
    "    return result"
   ]
  },
  {
   "cell_type": "code",
   "execution_count": 63,
   "metadata": {
    "ExecuteTime": {
     "end_time": "2021-02-22T14:00:05.369701Z",
     "start_time": "2021-02-22T14:00:05.362751Z"
    }
   },
   "outputs": [
    {
     "data": {
      "text/plain": [
       "{'Tom'}"
      ]
     },
     "execution_count": 63,
     "metadata": {},
     "output_type": "execute_result"
    }
   ],
   "source": [
    "find_same_name(test)"
   ]
  },
  {
   "cell_type": "code",
   "execution_count": 64,
   "metadata": {
    "ExecuteTime": {
     "end_time": "2021-02-22T14:00:05.827490Z",
     "start_time": "2021-02-22T14:00:05.819503Z"
    }
   },
   "outputs": [
    {
     "data": {
      "text/plain": [
       "{'Park', 'Tom'}"
      ]
     },
     "execution_count": 64,
     "metadata": {},
     "output_type": "execute_result"
    }
   ],
   "source": [
    "test2 = ['Tom','Jerry','Mike','Tom', 'Park','Park']\n",
    "find_same_name(test2)"
   ]
  },
  {
   "cell_type": "markdown",
   "metadata": {},
   "source": [
    "## 추가 연습문제\n",
    "- n명 중 두 명을 뽑아 짝을 짓는다고 할 때, 짝을 지을 수 있는 모든 조합을 출력하는 알고리즘을 만들어보자\n",
    "- ex. ['Tom','Jerry','Mike']  =>        \n",
    "Tom  -  Jerry     \n",
    "Tom  -  Mike       \n",
    "Jerry  -  Mike     "
   ]
  },
  {
   "cell_type": "code",
   "execution_count": 69,
   "metadata": {
    "ExecuteTime": {
     "end_time": "2021-02-22T14:17:42.340606Z",
     "start_time": "2021-02-22T14:17:42.331630Z"
    }
   },
   "outputs": [],
   "source": [
    "def find_partner(name_list):\n",
    "    for i in range(len(name_list)-1):   # 마지막 값 제외 (이미 앞에서 비교함)\n",
    "        for j in range(i+1,len(name_list)):   # i+1번째 부터 비교\n",
    "            print(name_list[i], ' - ', name_list[j])"
   ]
  },
  {
   "cell_type": "code",
   "execution_count": 70,
   "metadata": {
    "ExecuteTime": {
     "end_time": "2021-02-22T14:17:42.670502Z",
     "start_time": "2021-02-22T14:17:42.665517Z"
    }
   },
   "outputs": [],
   "source": [
    "name = ['Tom','Jerry','Mike']"
   ]
  },
  {
   "cell_type": "code",
   "execution_count": 71,
   "metadata": {
    "ExecuteTime": {
     "end_time": "2021-02-22T14:17:43.182733Z",
     "start_time": "2021-02-22T14:17:43.176752Z"
    }
   },
   "outputs": [
    {
     "name": "stdout",
     "output_type": "stream",
     "text": [
      "Tom  -  Jerry\n",
      "Tom  -  Mike\n",
      "Jerry  -  Mike\n"
     ]
    }
   ],
   "source": [
    "find_partner(name)"
   ]
  }
 ],
 "metadata": {
  "kernelspec": {
   "display_name": "Python 3",
   "language": "python",
   "name": "python3"
  },
  "language_info": {
   "codemirror_mode": {
    "name": "ipython",
    "version": 3
   },
   "file_extension": ".py",
   "mimetype": "text/x-python",
   "name": "python",
   "nbconvert_exporter": "python",
   "pygments_lexer": "ipython3",
   "version": "3.8.3"
  },
  "toc": {
   "base_numbering": 1,
   "nav_menu": {},
   "number_sections": true,
   "sideBar": true,
   "skip_h1_title": false,
   "title_cell": "Table of Contents",
   "title_sidebar": "Contents",
   "toc_cell": true,
   "toc_position": {},
   "toc_section_display": true,
   "toc_window_display": false
  }
 },
 "nbformat": 4,
 "nbformat_minor": 4
}
