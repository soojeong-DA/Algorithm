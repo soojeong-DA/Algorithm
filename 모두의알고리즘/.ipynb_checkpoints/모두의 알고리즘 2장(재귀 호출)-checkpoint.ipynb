{
 "cells": [
  {
   "cell_type": "markdown",
   "metadata": {},
   "source": [
    "**재귀 함수**\n",
    "- 조금 '더 작은' 입력 값으로 자신을 다시 호출하는 것을 반복함\n",
    "- 입력이 일정 크기 이하로 '작아지면 (종료 조건)' 반복 호출을 멈춤"
   ]
  },
  {
   "cell_type": "markdown",
   "metadata": {},
   "source": [
    "# 팩토리얼\n",
    "- 1부터 n까지 연속한 정수의 곱을 구하는 알고리즘 작성"
   ]
  },
  {
   "cell_type": "code",
   "execution_count": 1,
   "metadata": {
    "ExecuteTime": {
     "end_time": "2021-05-13T06:41:08.448855Z",
     "start_time": "2021-05-13T06:41:08.431900Z"
    }
   },
   "outputs": [],
   "source": [
    "# 반복문 이용  => O(n)\n",
    "def factorial(n):\n",
    "    f = 1\n",
    "    for num in range(1,n+1):\n",
    "        f = f * num\n",
    "    return f"
   ]
  },
  {
   "cell_type": "code",
   "execution_count": 2,
   "metadata": {
    "ExecuteTime": {
     "end_time": "2021-05-13T06:44:58.040928Z",
     "start_time": "2021-05-13T06:44:58.010015Z"
    }
   },
   "outputs": [
    {
     "data": {
      "text/plain": [
       "1"
      ]
     },
     "execution_count": 2,
     "metadata": {},
     "output_type": "execute_result"
    }
   ],
   "source": [
    "factorial(1)"
   ]
  },
  {
   "cell_type": "code",
   "execution_count": 3,
   "metadata": {
    "ExecuteTime": {
     "end_time": "2021-05-13T06:45:02.035346Z",
     "start_time": "2021-05-13T06:45:02.020388Z"
    }
   },
   "outputs": [
    {
     "data": {
      "text/plain": [
       "120"
      ]
     },
     "execution_count": 3,
     "metadata": {},
     "output_type": "execute_result"
    }
   ],
   "source": [
    "factorial(5)"
   ]
  },
  {
   "cell_type": "code",
   "execution_count": 4,
   "metadata": {
    "ExecuteTime": {
     "end_time": "2021-05-13T06:45:04.845101Z",
     "start_time": "2021-05-13T06:45:04.835126Z"
    }
   },
   "outputs": [
    {
     "data": {
      "text/plain": [
       "3628800"
      ]
     },
     "execution_count": 4,
     "metadata": {},
     "output_type": "execute_result"
    }
   ],
   "source": [
    "factorial(10)"
   ]
  },
  {
   "cell_type": "code",
   "execution_count": 5,
   "metadata": {
    "ExecuteTime": {
     "end_time": "2021-05-13T06:58:30.334462Z",
     "start_time": "2021-05-13T06:58:30.315549Z"
    }
   },
   "outputs": [],
   "source": [
    "# 재귀 호출 이용  => O(n)\n",
    "def fact(n):\n",
    "    if n <= 1:              # 종료 조건!!\n",
    "        return 1\n",
    "    return n * fact(n-1)    # 재귀호출: 자기 자신 호출"
   ]
  },
  {
   "cell_type": "code",
   "execution_count": 7,
   "metadata": {
    "ExecuteTime": {
     "end_time": "2021-05-13T06:58:37.826506Z",
     "start_time": "2021-05-13T06:58:37.810547Z"
    }
   },
   "outputs": [
    {
     "data": {
      "text/plain": [
       "1"
      ]
     },
     "execution_count": 7,
     "metadata": {},
     "output_type": "execute_result"
    }
   ],
   "source": [
    "fact(1)"
   ]
  },
  {
   "cell_type": "code",
   "execution_count": 8,
   "metadata": {
    "ExecuteTime": {
     "end_time": "2021-05-13T06:58:44.451514Z",
     "start_time": "2021-05-13T06:58:44.434560Z"
    }
   },
   "outputs": [
    {
     "data": {
      "text/plain": [
       "120"
      ]
     },
     "execution_count": 8,
     "metadata": {},
     "output_type": "execute_result"
    }
   ],
   "source": [
    "fact(5)"
   ]
  },
  {
   "cell_type": "code",
   "execution_count": 9,
   "metadata": {
    "ExecuteTime": {
     "end_time": "2021-05-13T06:58:47.577418Z",
     "start_time": "2021-05-13T06:58:47.555481Z"
    }
   },
   "outputs": [
    {
     "data": {
      "text/plain": [
       "3628800"
      ]
     },
     "execution_count": 9,
     "metadata": {},
     "output_type": "execute_result"
    }
   ],
   "source": [
    "fact(10)"
   ]
  },
  {
   "cell_type": "markdown",
   "metadata": {},
   "source": [
    "## 추가 연습 문제"
   ]
  },
  {
   "cell_type": "markdown",
   "metadata": {},
   "source": [
    "### 1부터 n까지의 합 구하기 - 재귀 호출 ver."
   ]
  },
  {
   "cell_type": "code",
   "execution_count": 10,
   "metadata": {
    "ExecuteTime": {
     "end_time": "2021-05-13T07:08:26.785893Z",
     "start_time": "2021-05-13T07:08:26.771927Z"
    }
   },
   "outputs": [],
   "source": [
    "def sum_n(n):\n",
    "    if n <= 1:     # n == 0 가능\n",
    "        return 1\n",
    "    return n + sum_n(n-1)"
   ]
  },
  {
   "cell_type": "code",
   "execution_count": 12,
   "metadata": {
    "ExecuteTime": {
     "end_time": "2021-05-13T07:16:07.323165Z",
     "start_time": "2021-05-13T07:16:07.308236Z"
    }
   },
   "outputs": [
    {
     "data": {
      "text/plain": [
       "55"
      ]
     },
     "execution_count": 12,
     "metadata": {},
     "output_type": "execute_result"
    }
   ],
   "source": [
    "sum_n(10)"
   ]
  },
  {
   "cell_type": "code",
   "execution_count": 13,
   "metadata": {
    "ExecuteTime": {
     "end_time": "2021-05-13T07:16:17.840175Z",
     "start_time": "2021-05-13T07:16:17.827212Z"
    }
   },
   "outputs": [
    {
     "data": {
      "text/plain": [
       "5050"
      ]
     },
     "execution_count": 13,
     "metadata": {},
     "output_type": "execute_result"
    }
   ],
   "source": [
    "sum_n(100)"
   ]
  },
  {
   "cell_type": "markdown",
   "metadata": {},
   "source": [
    "###  숫자 n개 중에서 최댓값 찾기 - 재귀 호출 ver."
   ]
  },
  {
   "cell_type": "code",
   "execution_count": 15,
   "metadata": {
    "ExecuteTime": {
     "end_time": "2021-05-13T07:22:06.013326Z",
     "start_time": "2021-05-13T07:22:06.004350Z"
    }
   },
   "outputs": [],
   "source": [
    "def find_max(a, n):  # list, len\n",
    "    if n == 1:\n",
    "        return a[0]\n",
    "    max_n = find_max(a, n-1)\n",
    "    if max_n > a[n-1]:\n",
    "        return max_n\n",
    "    else:\n",
    "        return a[n-1]"
   ]
  },
  {
   "cell_type": "code",
   "execution_count": 16,
   "metadata": {
    "ExecuteTime": {
     "end_time": "2021-05-13T07:22:32.989392Z",
     "start_time": "2021-05-13T07:22:32.979430Z"
    }
   },
   "outputs": [
    {
     "data": {
      "text/plain": [
       "92"
      ]
     },
     "execution_count": 16,
     "metadata": {},
     "output_type": "execute_result"
    }
   ],
   "source": [
    "l = [17, 92, 18, 33, 58, 7, 33, 42]\n",
    "find_max(l, len(l))"
   ]
  },
  {
   "cell_type": "markdown",
   "metadata": {},
   "source": [
    "# 최대공약수\n",
    "- 두 자연수 a, b의 최대공약수를 구하는 알고리즘 작성"
   ]
  },
  {
   "cell_type": "code",
   "execution_count": 17,
   "metadata": {
    "ExecuteTime": {
     "end_time": "2021-05-13T07:47:16.617144Z",
     "start_time": "2021-05-13T07:47:16.600188Z"
    }
   },
   "outputs": [],
   "source": [
    "def gcd(a,b):\n",
    "    i = min(a,b)\n",
    "    while True:\n",
    "        if a % i == 0 and b % i == 0:\n",
    "            return i\n",
    "        i = i - 1"
   ]
  },
  {
   "cell_type": "code",
   "execution_count": 18,
   "metadata": {
    "ExecuteTime": {
     "end_time": "2021-05-13T07:47:21.798252Z",
     "start_time": "2021-05-13T07:47:21.780297Z"
    }
   },
   "outputs": [
    {
     "data": {
      "text/plain": [
       "1"
      ]
     },
     "execution_count": 18,
     "metadata": {},
     "output_type": "execute_result"
    }
   ],
   "source": [
    "gcd(1,5)"
   ]
  },
  {
   "cell_type": "code",
   "execution_count": 19,
   "metadata": {
    "ExecuteTime": {
     "end_time": "2021-05-13T07:47:28.436333Z",
     "start_time": "2021-05-13T07:47:28.429385Z"
    }
   },
   "outputs": [
    {
     "data": {
      "text/plain": [
       "3"
      ]
     },
     "execution_count": 19,
     "metadata": {},
     "output_type": "execute_result"
    }
   ],
   "source": [
    "gcd(3,6)"
   ]
  },
  {
   "cell_type": "code",
   "execution_count": 20,
   "metadata": {
    "ExecuteTime": {
     "end_time": "2021-05-13T07:47:33.755292Z",
     "start_time": "2021-05-13T07:47:33.741360Z"
    }
   },
   "outputs": [
    {
     "data": {
      "text/plain": [
       "12"
      ]
     },
     "execution_count": 20,
     "metadata": {},
     "output_type": "execute_result"
    }
   ],
   "source": [
    "gcd(60,24)"
   ]
  },
  {
   "cell_type": "code",
   "execution_count": 21,
   "metadata": {
    "ExecuteTime": {
     "end_time": "2021-05-13T07:47:40.110399Z",
     "start_time": "2021-05-13T07:47:40.101458Z"
    }
   },
   "outputs": [
    {
     "data": {
      "text/plain": [
       "27"
      ]
     },
     "execution_count": 21,
     "metadata": {},
     "output_type": "execute_result"
    }
   ],
   "source": [
    "gcd(81,27)"
   ]
  },
  {
   "cell_type": "code",
   "execution_count": 27,
   "metadata": {
    "ExecuteTime": {
     "end_time": "2021-05-13T07:59:37.723679Z",
     "start_time": "2021-05-13T07:59:37.705732Z"
    }
   },
   "outputs": [],
   "source": [
    "# 유클리드 알고리즘 이용\n",
    "def gcd(a,b):\n",
    "    if b == 0:   # 종료조건 = 어떤 수와 0의 최대공약수는 자기 자신 => b == 0이되면 (a, 0) => a가 최대 공약수가 됨\n",
    "        return a\n",
    "    return gcd(b, a % b)    # b => a, a % b => b가되어 다시 호출 됨  (재귀 호출)"
   ]
  },
  {
   "cell_type": "code",
   "execution_count": 28,
   "metadata": {
    "ExecuteTime": {
     "end_time": "2021-05-13T07:59:37.861555Z",
     "start_time": "2021-05-13T07:59:37.846599Z"
    }
   },
   "outputs": [
    {
     "data": {
      "text/plain": [
       "1"
      ]
     },
     "execution_count": 28,
     "metadata": {},
     "output_type": "execute_result"
    }
   ],
   "source": [
    "gcd(1,5)"
   ]
  },
  {
   "cell_type": "code",
   "execution_count": 29,
   "metadata": {
    "ExecuteTime": {
     "end_time": "2021-05-13T07:59:38.029074Z",
     "start_time": "2021-05-13T07:59:38.014081Z"
    }
   },
   "outputs": [
    {
     "data": {
      "text/plain": [
       "3"
      ]
     },
     "execution_count": 29,
     "metadata": {},
     "output_type": "execute_result"
    }
   ],
   "source": [
    "gcd(3,6)"
   ]
  },
  {
   "cell_type": "code",
   "execution_count": 30,
   "metadata": {
    "ExecuteTime": {
     "end_time": "2021-05-13T07:59:38.181044Z",
     "start_time": "2021-05-13T07:59:38.159103Z"
    }
   },
   "outputs": [
    {
     "data": {
      "text/plain": [
       "12"
      ]
     },
     "execution_count": 30,
     "metadata": {},
     "output_type": "execute_result"
    }
   ],
   "source": [
    "gcd(60,24)"
   ]
  },
  {
   "cell_type": "code",
   "execution_count": 31,
   "metadata": {
    "ExecuteTime": {
     "end_time": "2021-05-13T07:59:38.305020Z",
     "start_time": "2021-05-13T07:59:38.297040Z"
    }
   },
   "outputs": [
    {
     "data": {
      "text/plain": [
       "27"
      ]
     },
     "execution_count": 31,
     "metadata": {},
     "output_type": "execute_result"
    }
   ],
   "source": [
    "gcd(81,27)"
   ]
  },
  {
   "cell_type": "markdown",
   "metadata": {},
   "source": [
    "## 추가 연습 문제\n",
    "- n번째 피보나치 수를 구하는 알고리즘 작성 (0번부터 시작함)"
   ]
  },
  {
   "cell_type": "code",
   "execution_count": 41,
   "metadata": {
    "ExecuteTime": {
     "end_time": "2021-05-13T08:27:47.818533Z",
     "start_time": "2021-05-13T08:27:47.806597Z"
    }
   },
   "outputs": [],
   "source": [
    "def fibo(n):\n",
    "    if n <= 1:   # 종료 조건 fibo(n) = n인것 => 0,1\n",
    "        return n\n",
    "    return fibo(n - 1) + fibo(n - 2)"
   ]
  },
  {
   "cell_type": "code",
   "execution_count": 43,
   "metadata": {
    "ExecuteTime": {
     "end_time": "2021-05-13T08:27:56.093749Z",
     "start_time": "2021-05-13T08:27:56.085774Z"
    }
   },
   "outputs": [
    {
     "data": {
      "text/plain": [
       "13"
      ]
     },
     "execution_count": 43,
     "metadata": {},
     "output_type": "execute_result"
    }
   ],
   "source": [
    "fibo(7)"
   ]
  },
  {
   "cell_type": "code",
   "execution_count": 44,
   "metadata": {
    "ExecuteTime": {
     "end_time": "2021-05-13T08:27:59.029659Z",
     "start_time": "2021-05-13T08:27:59.022667Z"
    }
   },
   "outputs": [
    {
     "data": {
      "text/plain": [
       "55"
      ]
     },
     "execution_count": 44,
     "metadata": {},
     "output_type": "execute_result"
    }
   ],
   "source": [
    "fibo(10)"
   ]
  },
  {
   "cell_type": "markdown",
   "metadata": {},
   "source": [
    "# 하노이의 탑\n",
    "- 원반이 n개인 하노이의 탑을 옮기기 위한 원반 이동 순서 출력하는 알고리즘 작성"
   ]
  },
  {
   "cell_type": "code",
   "execution_count": 45,
   "metadata": {
    "ExecuteTime": {
     "end_time": "2021-05-13T09:08:24.769118Z",
     "start_time": "2021-05-13T09:08:24.752167Z"
    }
   },
   "outputs": [],
   "source": [
    "def hanoi(n, from_pos, to_pos, aux_pos):\n",
    "    if n == 1:                               # 종료조건: 원반이 1개이면, 목적지로 바로 옮기면 됨\n",
    "        return print(from_pos, ' -> ', to_pos)\n",
    "    # 원반 n-1개를 aux_pos로 이동 (to_pos는 보조 기둥으로 활용)\n",
    "    hanoi(n - 1, from_pos, aux_pos, to_pos)\n",
    "    # 나머지 원반 1개 (가장 큰 원반)를 목적지로 이동\n",
    "    print(from_pos, ' -> ', to_pos)\n",
    "    # aux_pos에 있는 원반 n-1개를 목적지로 이동 (from_pos를 보조 기둥으로 활용)\n",
    "    hanoi(n - 1, aux_pos, to_pos, from_pos)"
   ]
  },
  {
   "cell_type": "code",
   "execution_count": 47,
   "metadata": {
    "ExecuteTime": {
     "end_time": "2021-05-13T09:08:59.901106Z",
     "start_time": "2021-05-13T09:08:59.893131Z"
    }
   },
   "outputs": [
    {
     "name": "stdout",
     "output_type": "stream",
     "text": [
      "1  ->  3\n"
     ]
    }
   ],
   "source": [
    "hanoi(1, 1,3,2)"
   ]
  },
  {
   "cell_type": "code",
   "execution_count": 48,
   "metadata": {
    "ExecuteTime": {
     "end_time": "2021-05-13T09:09:04.648296Z",
     "start_time": "2021-05-13T09:09:04.640318Z"
    }
   },
   "outputs": [
    {
     "name": "stdout",
     "output_type": "stream",
     "text": [
      "1  ->  2\n",
      "1  ->  3\n",
      "2  ->  3\n"
     ]
    }
   ],
   "source": [
    "hanoi(2, 1,3,2)"
   ]
  },
  {
   "cell_type": "code",
   "execution_count": 49,
   "metadata": {
    "ExecuteTime": {
     "end_time": "2021-05-13T09:09:08.842129Z",
     "start_time": "2021-05-13T09:09:08.824181Z"
    }
   },
   "outputs": [
    {
     "name": "stdout",
     "output_type": "stream",
     "text": [
      "1  ->  3\n",
      "1  ->  2\n",
      "3  ->  2\n",
      "1  ->  3\n",
      "2  ->  1\n",
      "2  ->  3\n",
      "1  ->  3\n"
     ]
    }
   ],
   "source": [
    "hanoi(3, 1,3,2)"
   ]
  }
 ],
 "metadata": {
  "kernelspec": {
   "display_name": "Python 3",
   "language": "python",
   "name": "python3"
  },
  "language_info": {
   "codemirror_mode": {
    "name": "ipython",
    "version": 3
   },
   "file_extension": ".py",
   "mimetype": "text/x-python",
   "name": "python",
   "nbconvert_exporter": "python",
   "pygments_lexer": "ipython3",
   "version": "3.8.3"
  },
  "toc": {
   "base_numbering": 1,
   "nav_menu": {},
   "number_sections": true,
   "sideBar": true,
   "skip_h1_title": false,
   "title_cell": "Table of Contents",
   "title_sidebar": "Contents",
   "toc_cell": false,
   "toc_position": {},
   "toc_section_display": true,
   "toc_window_display": false
  }
 },
 "nbformat": 4,
 "nbformat_minor": 4
}
