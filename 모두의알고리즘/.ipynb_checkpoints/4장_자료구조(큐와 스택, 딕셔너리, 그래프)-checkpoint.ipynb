{
 "cells": [
  {
   "cell_type": "markdown",
   "metadata": {},
   "source": [
    "# 큐와 스택\n",
    "- 큐(queue): 가장 먼저 들어 온 값이, 가장 먼저 꺼내짐 (First In First Out)\n",
    "- 스택(stack): 가장 마지막에 들어간 값이, 가장 먼저 꺼내짐 (Last In First Out)"
   ]
  },
  {
   "cell_type": "markdown",
   "metadata": {},
   "source": [
    "- 예시 문제: 문자열이 회문(palindrome)인지 아닌지를 판단하여, 회문이면 True, 아니면 Fales를 반환하는 알고리즘 작성"
   ]
  },
  {
   "cell_type": "code",
   "execution_count": 2,
   "metadata": {
    "ExecuteTime": {
     "end_time": "2021-05-14T14:35:48.559741Z",
     "start_time": "2021-05-14T14:35:48.543784Z"
    }
   },
   "outputs": [],
   "source": [
    "# 회문 찾기 알고리즘 - 1 (큐, 스택 이용)\n",
    "def palindrome(s):\n",
    "    qu = []\n",
    "    st = []\n",
    "    # 특수기호, 공백, 숫자 등을 제외한 알파벳만\n",
    "    for x in s:\n",
    "        if x.isalpha():    \n",
    "            qu.append(x.lower())\n",
    "            st.append(x.lower())\n",
    "    # palindrome 판단\n",
    "    while qu:             # queue에 값이 있을 때까지\n",
    "        if qu.pop(0) != st.pop():    # 하나라도 틀린 값이 있으면, False\n",
    "            return False\n",
    "    return True"
   ]
  },
  {
   "cell_type": "code",
   "execution_count": 3,
   "metadata": {
    "ExecuteTime": {
     "end_time": "2021-05-14T14:35:58.321293Z",
     "start_time": "2021-05-14T14:35:58.297358Z"
    }
   },
   "outputs": [
    {
     "data": {
      "text/plain": [
       "True"
      ]
     },
     "execution_count": 3,
     "metadata": {},
     "output_type": "execute_result"
    }
   ],
   "source": [
    "palindrome('Wow')"
   ]
  },
  {
   "cell_type": "code",
   "execution_count": 4,
   "metadata": {
    "ExecuteTime": {
     "end_time": "2021-05-14T14:36:23.423047Z",
     "start_time": "2021-05-14T14:36:23.410085Z"
    }
   },
   "outputs": [
    {
     "data": {
      "text/plain": [
       "True"
      ]
     },
     "execution_count": 4,
     "metadata": {},
     "output_type": "execute_result"
    }
   ],
   "source": [
    "palindrome(\"Madam, I'm Adam.\")"
   ]
  },
  {
   "cell_type": "code",
   "execution_count": 5,
   "metadata": {
    "ExecuteTime": {
     "end_time": "2021-05-14T14:36:33.794211Z",
     "start_time": "2021-05-14T14:36:33.777257Z"
    }
   },
   "outputs": [
    {
     "data": {
      "text/plain": [
       "False"
      ]
     },
     "execution_count": 5,
     "metadata": {},
     "output_type": "execute_result"
    }
   ],
   "source": [
    "palindrome(\"Madam, I am Adam.\")"
   ]
  },
  {
   "cell_type": "code",
   "execution_count": 31,
   "metadata": {
    "ExecuteTime": {
     "end_time": "2021-05-14T14:45:11.753745Z",
     "start_time": "2021-05-14T14:45:11.737791Z"
    }
   },
   "outputs": [],
   "source": [
    "# 회문 찾기 알고리즘 - 2 (큐, 스택을 이용하지 않고, 일반 list 활용)\n",
    "def palindrome(s):\n",
    "    s = [x.lower() for x in s if x.isalpha()]\n",
    "    for x in s:\n",
    "        if x != s.pop():\n",
    "            return False\n",
    "    return True"
   ]
  },
  {
   "cell_type": "code",
   "execution_count": 43,
   "metadata": {
    "ExecuteTime": {
     "end_time": "2021-05-14T14:49:07.195910Z",
     "start_time": "2021-05-14T14:49:07.177924Z"
    }
   },
   "outputs": [],
   "source": [
    "# 회문 찾기 알고리즘 - 3 (큐, 스택을 이용하지 않고, 일반 list 활용)\n",
    "def palindrome(s):\n",
    "    s = [x.lower() for x in s if x.isalpha()]\n",
    "    for i in range(len(s)//2):     # 중간 까지만 검사\n",
    "        if s.pop(0) != s.pop():\n",
    "            return False\n",
    "    return True"
   ]
  },
  {
   "cell_type": "code",
   "execution_count": 57,
   "metadata": {
    "ExecuteTime": {
     "end_time": "2021-05-14T14:55:15.936983Z",
     "start_time": "2021-05-14T14:55:15.915077Z"
    }
   },
   "outputs": [],
   "source": [
    "# 회문 찾기 알고리즘 - 4 (큐, 스택을 이용하지 않고, 일반 list 활용)\n",
    "def palindrome(s):\n",
    "    start = 0\n",
    "    end = len(s) - 1\n",
    "    # 중간까지만 검사!\n",
    "    while start < end:\n",
    "        # start위치 값이 알파벳이 아닌 경우, start+1\n",
    "        if s[start].isalpha() == False:\n",
    "            start += 1\n",
    "        # end위치 값이 알파벳이 아닌 경우, end-1\n",
    "        elif s[end].isalpha() == False:\n",
    "            end -= 1\n",
    "        # i, j 위치 값이 모두 알파벳이지만, 일치하지 않는 경우 \n",
    "        elif s[start].lower() != s[end].lower():\n",
    "            return False\n",
    "        # palindrome인 경우\n",
    "        else:\n",
    "            start += 1\n",
    "            end -= 1\n",
    "    return True"
   ]
  },
  {
   "cell_type": "code",
   "execution_count": 58,
   "metadata": {
    "ExecuteTime": {
     "end_time": "2021-05-14T14:55:16.226748Z",
     "start_time": "2021-05-14T14:55:16.217771Z"
    }
   },
   "outputs": [
    {
     "data": {
      "text/plain": [
       "True"
      ]
     },
     "execution_count": 58,
     "metadata": {},
     "output_type": "execute_result"
    }
   ],
   "source": [
    "palindrome('Wow')"
   ]
  },
  {
   "cell_type": "code",
   "execution_count": 59,
   "metadata": {
    "ExecuteTime": {
     "end_time": "2021-05-14T14:55:16.609085Z",
     "start_time": "2021-05-14T14:55:16.596122Z"
    }
   },
   "outputs": [
    {
     "data": {
      "text/plain": [
       "True"
      ]
     },
     "execution_count": 59,
     "metadata": {},
     "output_type": "execute_result"
    }
   ],
   "source": [
    "palindrome(\"Madam, I'm Adam.\")"
   ]
  },
  {
   "cell_type": "code",
   "execution_count": 60,
   "metadata": {
    "ExecuteTime": {
     "end_time": "2021-05-14T14:55:17.353077Z",
     "start_time": "2021-05-14T14:55:17.346098Z"
    }
   },
   "outputs": [
    {
     "data": {
      "text/plain": [
       "False"
      ]
     },
     "execution_count": 60,
     "metadata": {},
     "output_type": "execute_result"
    }
   ],
   "source": [
    "palindrome(\"Madam, I am Adam.\")"
   ]
  },
  {
   "cell_type": "markdown",
   "metadata": {},
   "source": [
    "# 딕셔너리\n",
    "- dictionary: 찾는 기준이 되는 키(key), 그 키에 연결된 값(value)의 대응 관계를 저장하는 자료구조\n",
    "- 예시 문제: n명의 사람 이름 중에 같은 이름을 찾아 집합으로 만들어 돌려주는 알고리즘 작성"
   ]
  },
  {
   "cell_type": "code",
   "execution_count": 3,
   "metadata": {
    "ExecuteTime": {
     "end_time": "2021-05-15T06:12:01.521787Z",
     "start_time": "2021-05-15T06:12:01.499847Z"
    }
   },
   "outputs": [],
   "source": [
    "def find_same_name(a):\n",
    "    name_dict = {}\n",
    "    for name in a:\n",
    "        if name in name_dict:   \n",
    "            name_dict[name] += 1\n",
    "        else:\n",
    "            name_dict[name] = 1\n",
    "    # 2개 이상인 것\n",
    "    name_set = set()\n",
    "    for name in name_dict:\n",
    "        if name_dict[name] >= 2:\n",
    "            name_set.add(name)\n",
    "    return name_set"
   ]
  },
  {
   "cell_type": "code",
   "execution_count": 4,
   "metadata": {
    "ExecuteTime": {
     "end_time": "2021-05-15T06:12:02.354702Z",
     "start_time": "2021-05-15T06:12:02.332761Z"
    }
   },
   "outputs": [
    {
     "data": {
      "text/plain": [
       "{'Tom'}"
      ]
     },
     "execution_count": 4,
     "metadata": {},
     "output_type": "execute_result"
    }
   ],
   "source": [
    "name = ['Tom', 'Jerry', 'Mike', 'Tom']\n",
    "find_same_name(name)"
   ]
  },
  {
   "cell_type": "code",
   "execution_count": 7,
   "metadata": {
    "ExecuteTime": {
     "end_time": "2021-05-15T06:21:26.386388Z",
     "start_time": "2021-05-15T06:21:26.364445Z"
    }
   },
   "outputs": [
    {
     "data": {
      "text/plain": [
       "Counter({'Tom': 2, 'Jerry': 1, 'Mike': 1})"
      ]
     },
     "execution_count": 7,
     "metadata": {},
     "output_type": "execute_result"
    }
   ],
   "source": [
    "import collections\n",
    "from collections import Counter\n",
    "\n",
    "counts = collections.Counter(name)\n",
    "counts"
   ]
  },
  {
   "cell_type": "code",
   "execution_count": 9,
   "metadata": {
    "ExecuteTime": {
     "end_time": "2021-05-15T06:21:49.143497Z",
     "start_time": "2021-05-15T06:21:49.132524Z"
    }
   },
   "outputs": [
    {
     "data": {
      "text/plain": [
       "2"
      ]
     },
     "execution_count": 9,
     "metadata": {},
     "output_type": "execute_result"
    }
   ],
   "source": [
    "counts['Tom']"
   ]
  },
  {
   "cell_type": "code",
   "execution_count": 14,
   "metadata": {
    "ExecuteTime": {
     "end_time": "2021-05-15T06:22:16.989942Z",
     "start_time": "2021-05-15T06:22:16.979966Z"
    }
   },
   "outputs": [
    {
     "data": {
      "text/plain": [
       "[('Tom', 2)]"
      ]
     },
     "execution_count": 14,
     "metadata": {},
     "output_type": "execute_result"
    }
   ],
   "source": [
    "counts.most_common(1)"
   ]
  },
  {
   "cell_type": "code",
   "execution_count": 15,
   "metadata": {
    "ExecuteTime": {
     "end_time": "2021-05-15T06:22:21.513528Z",
     "start_time": "2021-05-15T06:22:21.501563Z"
    }
   },
   "outputs": [
    {
     "data": {
      "text/plain": [
       "('Tom', 2)"
      ]
     },
     "execution_count": 15,
     "metadata": {},
     "output_type": "execute_result"
    }
   ],
   "source": [
    "counts.most_common(1)[0]"
   ]
  },
  {
   "cell_type": "code",
   "execution_count": 16,
   "metadata": {
    "ExecuteTime": {
     "end_time": "2021-05-15T06:22:27.851821Z",
     "start_time": "2021-05-15T06:22:27.829879Z"
    }
   },
   "outputs": [
    {
     "data": {
      "text/plain": [
       "'Tom'"
      ]
     },
     "execution_count": 16,
     "metadata": {},
     "output_type": "execute_result"
    }
   ],
   "source": [
    "counts.most_common(1)[0][0]"
   ]
  },
  {
   "cell_type": "markdown",
   "metadata": {},
   "source": [
    "# 그래프\n",
    "- 그래프(graph) 자료 구조: 꼭짓점(vertext)들과 그 꼭짓접 사이의 연결 관계를 선(edge)으로 표현한 집합\n",
    "    - 파이썬 프로그램에서 그래프 자료구조는 dictionary에서 key:[value]로 표현됨\n",
    "        - ex. {'summer':['john','justin'], ..}\n",
    "- 예시 문제: 친구 관계를 이용하여, 어떤 한 사람이 직접 또는 간접으로 아는 모든 친구를 출력하는 알고리즘을 작성"
   ]
  },
  {
   "cell_type": "code",
   "execution_count": 17,
   "metadata": {
    "ExecuteTime": {
     "end_time": "2021-05-15T07:06:54.587773Z",
     "start_time": "2021-05-15T07:06:54.567828Z"
    }
   },
   "outputs": [],
   "source": [
    "# 모든 친구를 찾는 알고리즘\n",
    "def print_all_friends(g, start):     # g: 친구관계 그래프, start: 모든 친구를 찾을 사람이름\n",
    "    qu = []\n",
    "    done = set()\n",
    "    # 자기 자신 넣고 시작\n",
    "    qu.append(start)\n",
    "    done.add(start)\n",
    "    while qu:\n",
    "        p = qu.pop(0)\n",
    "        print(p)\n",
    "        for x in g[p]:  # p의 친구들\n",
    "            if x not in done:\n",
    "                qu.append(x)\n",
    "                done.add(x)"
   ]
  },
  {
   "cell_type": "code",
   "execution_count": 19,
   "metadata": {
    "ExecuteTime": {
     "end_time": "2021-05-15T07:09:52.891088Z",
     "start_time": "2021-05-15T07:09:52.882113Z"
    }
   },
   "outputs": [],
   "source": [
    "friends_info = {\n",
    "    'Summer':['John','Justin','Mike'],\n",
    "    'John':['Summer','Justin'],\n",
    "    'Justin':['John','Summer','Mike', 'May'],\n",
    "    'Mike':['Summer','Justin'],\n",
    "    'May':['Justin','Kim'],\n",
    "    'Kim':['May'],\n",
    "    'Tom':['Jerry'],\n",
    "    'Jerry':['Tom'],\n",
    "}"
   ]
  },
  {
   "cell_type": "code",
   "execution_count": 20,
   "metadata": {
    "ExecuteTime": {
     "end_time": "2021-05-15T07:10:21.564948Z",
     "start_time": "2021-05-15T07:10:21.542008Z"
    }
   },
   "outputs": [
    {
     "name": "stdout",
     "output_type": "stream",
     "text": [
      "Summer\n",
      "John\n",
      "Justin\n",
      "Mike\n",
      "May\n",
      "Kim\n"
     ]
    }
   ],
   "source": [
    "print_all_friends(friends_info, 'Summer')"
   ]
  },
  {
   "cell_type": "code",
   "execution_count": 21,
   "metadata": {
    "ExecuteTime": {
     "end_time": "2021-05-15T07:10:31.205142Z",
     "start_time": "2021-05-15T07:10:31.198163Z"
    }
   },
   "outputs": [
    {
     "name": "stdout",
     "output_type": "stream",
     "text": [
      "Jerry\n",
      "Tom\n"
     ]
    }
   ],
   "source": [
    "print_all_friends(friends_info, 'Jerry')"
   ]
  },
  {
   "cell_type": "markdown",
   "metadata": {},
   "source": [
    "- 예시 문제2) 모든 친구 출력 + 친밀도 같이 출력\n",
    "    - 자기자신 친밀도 = 0 "
   ]
  },
  {
   "cell_type": "code",
   "execution_count": 27,
   "metadata": {
    "ExecuteTime": {
     "end_time": "2021-05-15T07:21:55.503658Z",
     "start_time": "2021-05-15T07:21:55.494674Z"
    }
   },
   "outputs": [],
   "source": [
    "def print_all_friends2(g, start):\n",
    "    qu = []\n",
    "    done = set()\n",
    "    \n",
    "    qu.append((start, 0))\n",
    "    done.add(start)\n",
    "    \n",
    "    while qu:\n",
    "        p, d = qu.pop(0)\n",
    "        print(p, d)\n",
    "        for x in g[p]:\n",
    "            if x not in done:\n",
    "                qu.append((x, d+1))\n",
    "                done.add(x)"
   ]
  },
  {
   "cell_type": "code",
   "execution_count": 28,
   "metadata": {
    "ExecuteTime": {
     "end_time": "2021-05-15T07:21:55.916293Z",
     "start_time": "2021-05-15T07:21:55.902333Z"
    }
   },
   "outputs": [
    {
     "name": "stdout",
     "output_type": "stream",
     "text": [
      "Jerry 0\n",
      "Tom 1\n"
     ]
    }
   ],
   "source": [
    "print_all_friends2(friends_info, 'Jerry')"
   ]
  },
  {
   "cell_type": "code",
   "execution_count": 29,
   "metadata": {
    "ExecuteTime": {
     "end_time": "2021-05-15T07:22:04.039383Z",
     "start_time": "2021-05-15T07:22:04.024426Z"
    }
   },
   "outputs": [
    {
     "name": "stdout",
     "output_type": "stream",
     "text": [
      "Summer 0\n",
      "John 1\n",
      "Justin 1\n",
      "Mike 1\n",
      "May 2\n",
      "Kim 3\n"
     ]
    }
   ],
   "source": [
    "print_all_friends2(friends_info, 'Summer')"
   ]
  },
  {
   "cell_type": "code",
   "execution_count": null,
   "metadata": {},
   "outputs": [],
   "source": []
  }
 ],
 "metadata": {
  "kernelspec": {
   "display_name": "Python 3",
   "language": "python",
   "name": "python3"
  },
  "language_info": {
   "codemirror_mode": {
    "name": "ipython",
    "version": 3
   },
   "file_extension": ".py",
   "mimetype": "text/x-python",
   "name": "python",
   "nbconvert_exporter": "python",
   "pygments_lexer": "ipython3",
   "version": "3.8.3"
  },
  "toc": {
   "base_numbering": 1,
   "nav_menu": {},
   "number_sections": true,
   "sideBar": true,
   "skip_h1_title": false,
   "title_cell": "Table of Contents",
   "title_sidebar": "Contents",
   "toc_cell": false,
   "toc_position": {},
   "toc_section_display": true,
   "toc_window_display": false
  }
 },
 "nbformat": 4,
 "nbformat_minor": 4
}
