{
 "cells": [
  {
   "cell_type": "markdown",
   "metadata": {},
   "source": [
    "# 선택 정렬\n",
    "- 주어진 리스트 안의 자료를 작은 수부터 큰 수 순서로 배열하는 알고리즘 작성 (선택 정렬)\n",
    "- 선택 정렬 과정\n",
    "    - 처리할 대상 범위에서 최솟값을 찾아, 그 값과 범위의 맨 앞에 있는 값을 서로 바꾸는 과정 반복\n",
    "    - 해당 과정이 한 번 끝날 때마다 범위안의 맨 앞에 있는 값은 정렬이 끝난 것이므로, 정렬 대상 범위에서 제외"
   ]
  },
  {
   "cell_type": "code",
   "execution_count": 1,
   "metadata": {
    "ExecuteTime": {
     "end_time": "2021-05-14T09:57:48.332559Z",
     "start_time": "2021-05-14T09:57:48.322587Z"
    }
   },
   "outputs": [],
   "source": [
    "# 이해를 위한 선택 정렬 알고리즘\n",
    "\n",
    "# list 최솟값의 위치 반환하는 함수\n",
    "def find_min_idx(l):\n",
    "    min_idx = 0\n",
    "    for i in range(0, len(l)):\n",
    "        if l[i] < l[min_idx]:\n",
    "            min_idx = i\n",
    "    return min_idx\n",
    "\n",
    "# 최솟값을 빼서, 새로운 리스트에 추가\n",
    "def sel_sort(l):\n",
    "    result = []\n",
    "    while l:     # l이 빈값이 아닐 때까지\n",
    "        min_idx = find_min_idx(l)   # list에 남아있는 값 중 최솟값의 위치\n",
    "        value = l.pop(min_idx)\n",
    "        result.append(value)\n",
    "    return result"
   ]
  },
  {
   "cell_type": "code",
   "execution_count": 2,
   "metadata": {
    "ExecuteTime": {
     "end_time": "2021-05-14T09:57:48.851495Z",
     "start_time": "2021-05-14T09:57:48.833579Z"
    }
   },
   "outputs": [],
   "source": [
    "d = [2, 4, 5, 1, 3]"
   ]
  },
  {
   "cell_type": "code",
   "execution_count": 3,
   "metadata": {
    "ExecuteTime": {
     "end_time": "2021-05-14T09:57:49.725450Z",
     "start_time": "2021-05-14T09:57:49.704506Z"
    }
   },
   "outputs": [
    {
     "data": {
      "text/plain": [
       "[1, 2, 3, 4, 5]"
      ]
     },
     "execution_count": 3,
     "metadata": {},
     "output_type": "execute_result"
    }
   ],
   "source": [
    "sel_sort(d)"
   ]
  },
  {
   "cell_type": "code",
   "execution_count": 4,
   "metadata": {
    "ExecuteTime": {
     "end_time": "2021-05-14T09:57:50.197471Z",
     "start_time": "2021-05-14T09:57:50.176522Z"
    }
   },
   "outputs": [],
   "source": [
    "# 좀 더 효율적인 일반적인 정렬 알고리즘 (빼서 다시 result에 넣는 방식이 아닌, 안에서 직접 자료의 위치 변경해 정렬)\n",
    "# 두 수를 비교를 총 n(n-1)/2번 해야함 => O(n**2)\n",
    "def sel_sort(l):\n",
    "    for i in range(0, len(l) - 1):    # 0 ~ n-2까지\n",
    "        min_idx = i\n",
    "        for j in range(i+1, len(l)):  # i+1 ~ 끝까지\n",
    "            if l[j] < l[min_idx]:     #  '<' -> '>'로 바꾸면 내림차순 정렬됨\n",
    "                min_idx = j\n",
    "        # 찾은 최솟값을 i위치로\n",
    "        l[i], l[min_idx] = l[min_idx], l[i]"
   ]
  },
  {
   "cell_type": "code",
   "execution_count": 5,
   "metadata": {
    "ExecuteTime": {
     "end_time": "2021-05-14T09:57:50.698275Z",
     "start_time": "2021-05-14T09:57:50.680325Z"
    }
   },
   "outputs": [],
   "source": [
    "d = [2, 4, 5, 1, 3]\n",
    "sel_sort(d)"
   ]
  },
  {
   "cell_type": "code",
   "execution_count": 6,
   "metadata": {
    "ExecuteTime": {
     "end_time": "2021-05-14T09:57:52.873942Z",
     "start_time": "2021-05-14T09:57:52.856987Z"
    }
   },
   "outputs": [
    {
     "data": {
      "text/plain": [
       "[1, 2, 3, 4, 5]"
      ]
     },
     "execution_count": 6,
     "metadata": {},
     "output_type": "execute_result"
    }
   ],
   "source": [
    "d"
   ]
  },
  {
   "cell_type": "markdown",
   "metadata": {},
   "source": [
    "# 삽입 정렬\n",
    "- 주어진 리스트 안의 자료를 작은 수부터 큰 수 순서로 배열하는 알고리즘 작성 (삽입 정렬)\n",
    "- 삽입 정렬 과정\n",
    "    - 처리할 대상 범위에 있는 맨 앞 값을 적절한 위치에 넣는 과정을 반복\n",
    "    - 해당 과정이 한 번 끝날 때 마다 대상 범위에 있는 맨 앞의 값이 제 위치를 찾아가므로, 정렬 대상 범위는 하나씩 줄어듬"
   ]
  },
  {
   "cell_type": "code",
   "execution_count": 7,
   "metadata": {
    "ExecuteTime": {
     "end_time": "2021-05-14T09:57:54.040509Z",
     "start_time": "2021-05-14T09:57:54.024552Z"
    }
   },
   "outputs": [],
   "source": [
    "# 이해를 위한 삽입 정렬 알고리즘\n",
    "\n",
    "# 해당 list에 value값을 넣어야할 위치 반환\n",
    "def find_ins_idx(r, v):\n",
    "    for i in range(0, len(r)):\n",
    "        if v < r[i]:           # v가 r[l]보다 작으면, 그 앞에 위치해야함\n",
    "            return i\n",
    "    return len(r)             # 모든 것을 비교해도 if 조건이 만족하지 않으면, v값이 가장 크다는 뜻 -> 맨 마지막 위치 반환\n",
    "\n",
    "# 삽입 정렬\n",
    "def ins_sort(l):\n",
    "    result = []\n",
    "    while l:     # list안에 값이 있을 때까지만\n",
    "        value = l.pop(0)\n",
    "        ins_idx = find_ins_idx(result, value)\n",
    "        result.insert(ins_idx, value)\n",
    "    return result"
   ]
  },
  {
   "cell_type": "code",
   "execution_count": 8,
   "metadata": {
    "ExecuteTime": {
     "end_time": "2021-05-14T09:57:55.173465Z",
     "start_time": "2021-05-14T09:57:55.152517Z"
    }
   },
   "outputs": [
    {
     "data": {
      "text/plain": [
       "[1, 2, 3, 4, 5]"
      ]
     },
     "execution_count": 8,
     "metadata": {},
     "output_type": "execute_result"
    }
   ],
   "source": [
    "d = [2, 4, 5, 1, 3]\n",
    "ins_sort(d)"
   ]
  },
  {
   "cell_type": "code",
   "execution_count": 9,
   "metadata": {
    "ExecuteTime": {
     "end_time": "2021-05-14T09:57:55.861449Z",
     "start_time": "2021-05-14T09:57:55.840508Z"
    }
   },
   "outputs": [],
   "source": [
    "# 일반적인 삽입 정렬 알고리즘\n",
    "def ins_sort(l):\n",
    "    for i in range(1, len(l)):    # 1 ~ n-1 \n",
    "        key = l[i]\n",
    "        j = i - 1\n",
    "        # key의 적절한 삽입 위치 탐색\n",
    "        while j >= 0 and l[j] > key:\n",
    "            l[j+1] = l[j]     # 삽입할 공간 확보\n",
    "            j -= 1\n",
    "        l[j+1] = key     # 찾은 삽입 위치에 key를 저장"
   ]
  },
  {
   "cell_type": "code",
   "execution_count": 10,
   "metadata": {
    "ExecuteTime": {
     "end_time": "2021-05-14T09:57:56.397400Z",
     "start_time": "2021-05-14T09:57:56.392415Z"
    }
   },
   "outputs": [],
   "source": [
    "d = [2, 4, 5, 1, 3]\n",
    "ins_sort(d)"
   ]
  },
  {
   "cell_type": "code",
   "execution_count": 11,
   "metadata": {
    "ExecuteTime": {
     "end_time": "2021-05-14T09:57:56.963953Z",
     "start_time": "2021-05-14T09:57:56.952983Z"
    }
   },
   "outputs": [
    {
     "data": {
      "text/plain": [
       "[1, 2, 3, 4, 5]"
      ]
     },
     "execution_count": 11,
     "metadata": {},
     "output_type": "execute_result"
    }
   ],
   "source": [
    "d"
   ]
  },
  {
   "cell_type": "markdown",
   "metadata": {},
   "source": [
    "# 병합 정렬\n",
    "- 주어진 리스트 안의 자료를 작은 수부터 큰 수 순서로 배열하는 알고리즘 작성 (병합 정렬)\n",
    "- 병합 정렬 과정\n",
    "    - 리스트를 두 그룹으로 나누어 각각 정렬한 후, 정렬된 두 그룹을 맨 앞에서부터 비교하면서 하나로 합치는 '병합'과정을 거침\n",
    "    - 주어진 문제를 절반으로 나눈 다음 각각을 재귀 호출로 풀어 가는 방식"
   ]
  },
  {
   "cell_type": "code",
   "execution_count": 12,
   "metadata": {
    "ExecuteTime": {
     "end_time": "2021-05-14T09:57:58.033914Z",
     "start_time": "2021-05-14T09:57:58.009978Z"
    }
   },
   "outputs": [],
   "source": [
    "# 이해를 위한 병합 정렬\n",
    "def merge_sort(a):\n",
    "    # 종료조건 - list안의 값이 1개 이하일 때 -> list 그대로 반환하면됨\n",
    "    if len(a) <= 1:    \n",
    "        return a\n",
    "    \n",
    "    # 중간 위치 기준으로 2 그룹으로 나누기\n",
    "    mid = len(a) // 2\n",
    "    g1 = merge_sort(a[:mid])    # 재귀호출\n",
    "    g2 = merge_sort(a[mid:])    # 재귀호출\n",
    "    \n",
    "    # 두 그룹을 하나로 병합\n",
    "    result = []\n",
    "    while g1 and g2:     # list에 값이 남아있을 때까지만\n",
    "        if g1[0] < g2[0]:    # 맨 앞끼리 비교\n",
    "            result.append(g1.pop(0))\n",
    "        else:\n",
    "            result.append(g2.pop(0))\n",
    "    \n",
    "    # 아직 list에 값이 남은 경우, result에 추가\n",
    "    while g1:\n",
    "        result.append(g1.pop(0))\n",
    "    while g2:\n",
    "        result.append(g2.pop(0))\n",
    "    \n",
    "    return result"
   ]
  },
  {
   "cell_type": "code",
   "execution_count": 13,
   "metadata": {
    "ExecuteTime": {
     "end_time": "2021-05-14T09:57:58.673532Z",
     "start_time": "2021-05-14T09:57:58.657576Z"
    }
   },
   "outputs": [],
   "source": [
    "d = [6, 8, 3, 9, 10, 1, 2, 4, 7, 5]"
   ]
  },
  {
   "cell_type": "code",
   "execution_count": 14,
   "metadata": {
    "ExecuteTime": {
     "end_time": "2021-05-14T09:57:59.378193Z",
     "start_time": "2021-05-14T09:57:59.363233Z"
    }
   },
   "outputs": [
    {
     "data": {
      "text/plain": [
       "[1, 2, 3, 4, 5, 6, 7, 8, 9, 10]"
      ]
     },
     "execution_count": 14,
     "metadata": {},
     "output_type": "execute_result"
    }
   ],
   "source": [
    "merge_sort(d)"
   ]
  },
  {
   "cell_type": "code",
   "execution_count": 15,
   "metadata": {
    "ExecuteTime": {
     "end_time": "2021-05-14T09:58:00.337508Z",
     "start_time": "2021-05-14T09:58:00.320555Z"
    }
   },
   "outputs": [],
   "source": [
    "# 일반적이 병합 정렬 알고리즘 (자료 안의 순서를 직접 바꿈)\n",
    "def merge_sort(a):\n",
    "    # 종료 조건 - list안의 자료 개수가 1개 이하일 때\n",
    "    if len(a) <= 1:\n",
    "        return\n",
    "    # 그룹을 나누어 각각 병합 정렬 호출\n",
    "    mid = len(a) // 2\n",
    "    g1 = a[:mid]\n",
    "    g2 = a[mid:]\n",
    "    merge_sort(g1)  # 재귀 호출로 첫번째 그룹을 정렬\n",
    "    merge_sort(g2)  # 재귀 호출로 두번째 그룹을 정렬\n",
    "    # 두 그룹을 하나로 병합\n",
    "    i1 = 0\n",
    "    i2 = 0\n",
    "    ia = 0\n",
    "    while i1 < len(g1) and i2 < len(g2):\n",
    "        if g1[i1] < g2[i2]:\n",
    "            a[ia] = g1[i1]\n",
    "            i1 += 1\n",
    "            ia += 1\n",
    "        else:\n",
    "            a[ia] = g2[i2]\n",
    "            i2 += 1\n",
    "            ia += 1\n",
    "    # 남은 자료들을 결과에 추가\n",
    "    while i1 < len(g1):\n",
    "        a[ia] = g1[i1]\n",
    "        i1 += 1\n",
    "        ia += 1\n",
    "    while i2 < len(g2):\n",
    "        a[ia] = g2[i2]\n",
    "        i2 += 1\n",
    "        ia += 1"
   ]
  },
  {
   "cell_type": "code",
   "execution_count": 16,
   "metadata": {
    "ExecuteTime": {
     "end_time": "2021-05-14T09:58:00.932574Z",
     "start_time": "2021-05-14T09:58:00.920608Z"
    }
   },
   "outputs": [],
   "source": [
    "d = [6, 8, 3, 9, 10, 1, 2, 4, 7, 5]\n",
    "merge_sort(d)"
   ]
  },
  {
   "cell_type": "code",
   "execution_count": 17,
   "metadata": {
    "ExecuteTime": {
     "end_time": "2021-05-14T09:58:01.452147Z",
     "start_time": "2021-05-14T09:58:01.432199Z"
    }
   },
   "outputs": [
    {
     "data": {
      "text/plain": [
       "[1, 2, 3, 4, 5, 6, 7, 8, 9, 10]"
      ]
     },
     "execution_count": 17,
     "metadata": {},
     "output_type": "execute_result"
    }
   ],
   "source": [
    "d"
   ]
  },
  {
   "cell_type": "markdown",
   "metadata": {},
   "source": [
    "# 퀵 정렬\n",
    "- 주어진 리스트 안의 자료를 작은 수부터 큰 수 순서로 배열하는 알고리즘 작성 (퀵 정렬)\n",
    "- 퀵 정렬 과정\n",
    "    - 그룹을 둘로 나눠 재귀 호출하는 방식은 병합 정렬과 같음\n",
    "    - 하지만, 그룹을 나눌 때 '기준'을 정해서, 기준과 비교한 후 그룹을 나눔\n",
    "    - 기준과 비교 -> 그룹 나눔 -> 각각 재귀 호출하여 정렬 -> 합침"
   ]
  },
  {
   "cell_type": "code",
   "execution_count": 24,
   "metadata": {
    "ExecuteTime": {
     "end_time": "2021-05-14T10:18:08.140036Z",
     "start_time": "2021-05-14T10:18:08.122088Z"
    }
   },
   "outputs": [],
   "source": [
    "def quick_sort(a):\n",
    "    # 종료 조건 - list안에 1개 이하의 값이 있을 때\n",
    "    if len(a) <= 1:\n",
    "        return a\n",
    "    # 기준 값을 정한 후, 기준에 맞춰 그룹 분류\n",
    "    pivot = a[-1]      # 마지막 값을 기준값으로\n",
    "    g1 = []\n",
    "    g2 = []\n",
    "    for i in range(0, len(a)-1):   # 마지막 값을 기준 값이므로 제외\n",
    "        if a[i] < pivot:\n",
    "            g1.append(a[i])\n",
    "        else:\n",
    "            g2.append(a[i])\n",
    "    return quick_sort(g1) + [pivot] + quick_sort(g2)"
   ]
  },
  {
   "cell_type": "code",
   "execution_count": 25,
   "metadata": {
    "ExecuteTime": {
     "end_time": "2021-05-14T10:18:08.446181Z",
     "start_time": "2021-05-14T10:18:08.435213Z"
    }
   },
   "outputs": [
    {
     "data": {
      "text/plain": [
       "[1, 2, 3, 4, 5, 6, 7, 8, 9, 10]"
      ]
     },
     "execution_count": 25,
     "metadata": {},
     "output_type": "execute_result"
    }
   ],
   "source": [
    "d = [6, 8, 3, 9, 10, 1, 2, 4, 7, 5]\n",
    "quick_sort(d)"
   ]
  },
  {
   "cell_type": "code",
   "execution_count": 39,
   "metadata": {
    "ExecuteTime": {
     "end_time": "2021-05-14T12:18:38.695714Z",
     "start_time": "2021-05-14T12:18:38.675767Z"
    }
   },
   "outputs": [],
   "source": [
    "# 일반적인 퀵 정렬 알고리즘  (리스트 안에서 직접 위치 바꾸면서 정렬)\n",
    "\n",
    "# list a에서 어디부터(start) 어디까지(end)가 정렬 대상인지\n",
    "def quick_sort_sub(a, start, end):  \n",
    "    # 종료 조건 - 정렬 대상이 1개 이하이면 종료\n",
    "    if end - start <= 0:\n",
    "        return\n",
    "    # 기준값(여기서는 마지막 값) 기준으로 나누기\n",
    "    pivot = a[end]\n",
    "    i = start\n",
    "    for j in range(start, end):\n",
    "        if a[j] <=pivot:\n",
    "            a[i], a[j] = a[j], a[i]\n",
    "            i += 1\n",
    "    a[i], a[end] = a[end], a[i]\n",
    "    # 재귀 호출\n",
    "    quick_sort_sub(a, start, i-1)  # 기준 값보다 작은 그룹을 재귀 호출로 다시 정렬\n",
    "    quick_sort_sub(a, i+1, end)  # 기준 값보다 큰 그룹을 재귀 호출로 다시 정렬\n",
    "    \n",
    "# list 전체(0 ~ len(a) -1)를 대상으로 재귀 함수 호출\n",
    "def quick_sort(a):\n",
    "    quick_sort_sub(a, 0, len(a) - 1)"
   ]
  },
  {
   "cell_type": "code",
   "execution_count": 40,
   "metadata": {
    "ExecuteTime": {
     "end_time": "2021-05-14T12:18:39.974091Z",
     "start_time": "2021-05-14T12:18:39.956132Z"
    }
   },
   "outputs": [],
   "source": [
    "d = [6, 8, 3, 9, 10, 1, 2, 4, 7, 5]\n",
    "quick_sort(d)"
   ]
  },
  {
   "cell_type": "code",
   "execution_count": 41,
   "metadata": {
    "ExecuteTime": {
     "end_time": "2021-05-14T12:18:41.343928Z",
     "start_time": "2021-05-14T12:18:41.331966Z"
    }
   },
   "outputs": [
    {
     "data": {
      "text/plain": [
       "[1, 2, 3, 4, 5, 6, 7, 8, 9, 10]"
      ]
     },
     "execution_count": 41,
     "metadata": {},
     "output_type": "execute_result"
    }
   ],
   "source": [
    "d"
   ]
  },
  {
   "cell_type": "code",
   "execution_count": null,
   "metadata": {},
   "outputs": [],
   "source": []
  }
 ],
 "metadata": {
  "kernelspec": {
   "display_name": "Python 3",
   "language": "python",
   "name": "python3"
  },
  "language_info": {
   "codemirror_mode": {
    "name": "ipython",
    "version": 3
   },
   "file_extension": ".py",
   "mimetype": "text/x-python",
   "name": "python",
   "nbconvert_exporter": "python",
   "pygments_lexer": "ipython3",
   "version": "3.8.3"
  },
  "toc": {
   "base_numbering": 1,
   "nav_menu": {},
   "number_sections": true,
   "sideBar": true,
   "skip_h1_title": false,
   "title_cell": "Table of Contents",
   "title_sidebar": "Contents",
   "toc_cell": false,
   "toc_position": {},
   "toc_section_display": true,
   "toc_window_display": false
  }
 },
 "nbformat": 4,
 "nbformat_minor": 4
}
