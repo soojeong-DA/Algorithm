{
 "cells": [
  {
   "cell_type": "markdown",
   "metadata": {},
   "source": [
    "# 미로 찾기 알고리즘\n",
    "- 출발점 a에서 시작하여 벽으로 막히지 않은 위치로 차례로 이동하여, 도착점 p에 이르는 가장 짧은 경로를 구하고, 그 과정에서 지나간 위치의 이름을 출력"
   ]
  },
  {
   "cell_type": "code",
   "execution_count": 11,
   "metadata": {
    "ExecuteTime": {
     "end_time": "2021-05-15T08:09:53.315237Z",
     "start_time": "2021-05-15T08:09:53.296323Z"
    }
   },
   "outputs": [],
   "source": [
    "def solve_maze(g, start, end):\n",
    "    qu = []\n",
    "    done = set()\n",
    "    \n",
    "    qu.append(start)\n",
    "    done.add(start)\n",
    "    \n",
    "    while qu:\n",
    "        p = qu.pop(0)\n",
    "        v = p[-1]\n",
    "        if v == end:\n",
    "            return p\n",
    "        for x in g[v]:\n",
    "            if x not in done:\n",
    "                qu.append(p+ '-' +x)  # p에 계속 x 더해나가기\n",
    "                done.add(x)\n",
    "    return '?'"
   ]
  },
  {
   "cell_type": "code",
   "execution_count": 12,
   "metadata": {
    "ExecuteTime": {
     "end_time": "2021-05-15T08:09:53.499142Z",
     "start_time": "2021-05-15T08:09:53.478200Z"
    }
   },
   "outputs": [],
   "source": [
    "maze = {\n",
    "    'a':['e'],\n",
    "    'b':['c','f'],\n",
    "    'c':['b','d'],\n",
    "    'd':['c'],\n",
    "    'e':['a','i'],\n",
    "    'f':['b','g','j'],\n",
    "    'g':['f','h'],\n",
    "    'h':['g','l'],\n",
    "    'i':['e','m'],\n",
    "    'j':['f','k','n'],\n",
    "    'k':['j','o'],\n",
    "    'l':['h','p'],\n",
    "    'm':['i','n'],\n",
    "    'n':['m','j'],\n",
    "    'o':['k'],\n",
    "    'p':['l'],\n",
    "}"
   ]
  },
  {
   "cell_type": "code",
   "execution_count": 13,
   "metadata": {
    "ExecuteTime": {
     "end_time": "2021-05-15T08:09:53.652360Z",
     "start_time": "2021-05-15T08:09:53.642385Z"
    }
   },
   "outputs": [
    {
     "data": {
      "text/plain": [
       "'a-e-i-m-n-j-f-g-h-l-p'"
      ]
     },
     "execution_count": 13,
     "metadata": {},
     "output_type": "execute_result"
    }
   ],
   "source": [
    "solve_maze(maze, 'a','p')"
   ]
  }
 ],
 "metadata": {
  "kernelspec": {
   "display_name": "Python 3",
   "language": "python",
   "name": "python3"
  },
  "language_info": {
   "codemirror_mode": {
    "name": "ipython",
    "version": 3
   },
   "file_extension": ".py",
   "mimetype": "text/x-python",
   "name": "python",
   "nbconvert_exporter": "python",
   "pygments_lexer": "ipython3",
   "version": "3.8.3"
  },
  "toc": {
   "base_numbering": 1,
   "nav_menu": {},
   "number_sections": true,
   "sideBar": true,
   "skip_h1_title": false,
   "title_cell": "Table of Contents",
   "title_sidebar": "Contents",
   "toc_cell": false,
   "toc_position": {},
   "toc_section_display": true,
   "toc_window_display": false
  }
 },
 "nbformat": 4,
 "nbformat_minor": 4
}
